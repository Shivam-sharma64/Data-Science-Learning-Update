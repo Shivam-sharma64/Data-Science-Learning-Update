{
 "cells": [
  {
   "cell_type": "code",
   "execution_count": 1,
   "id": "b50ebfdb-be56-4c52-93cb-195cbfc67e33",
   "metadata": {},
   "outputs": [],
   "source": [
    "import os"
   ]
  },
  {
   "cell_type": "code",
   "execution_count": 2,
   "id": "9b470f94-6e75-43b0-b2fc-3d9ad5aa75a0",
   "metadata": {},
   "outputs": [
    {
     "data": {
      "text/plain": [
       "'C:\\\\Users\\\\ASUS\\\\data science'"
      ]
     },
     "execution_count": 2,
     "metadata": {},
     "output_type": "execute_result"
    }
   ],
   "source": [
    "pwd()"
   ]
  },
  {
   "cell_type": "code",
   "execution_count": 3,
   "id": "bfcd4a6c-62b9-44bd-9437-177b05568846",
   "metadata": {},
   "outputs": [],
   "source": [
    "def test(a,b):\n",
    "    return a+b"
   ]
  },
  {
   "cell_type": "code",
   "execution_count": 15,
   "id": "ab51a4f9-91cc-40ca-9529-1da6d19b8777",
   "metadata": {},
   "outputs": [
    {
     "data": {
      "text/plain": [
       "'type()\\nprint()\\nlen()'"
      ]
     },
     "execution_count": 15,
     "metadata": {},
     "output_type": "execute_result"
    }
   ],
   "source": [
    "#like as these function we can create our own functions with modules\n",
    "\"\"\"type()\n",
    "print()\n",
    "len()\"\"\""
   ]
  },
  {
   "cell_type": "code",
   "execution_count": 7,
   "id": "3dd3486f-30e9-44c4-8fb1-27ecefb794fe",
   "metadata": {},
   "outputs": [
    {
     "name": "stdout",
     "output_type": "stream",
     "text": [
      " Volume in drive C has no label.\n",
      " Volume Serial Number is D8D8-9A4A\n",
      "\n",
      " Directory of C:\\Users\\ASUS\\data science\n",
      "\n",
      "20-04-2025  12:19    <DIR>          .\n",
      "20-04-2025  10:01    <DIR>          ..\n",
      "20-04-2025  12:10    <DIR>          .ipynb_checkpoints\n",
      "20-04-2025  10:53               186 {test.text\n",
      "20-04-2025  11:39             6,675 exception handling.ipynb\n",
      "20-04-2025  11:06            53,598 iterator generator.ipynb\n",
      "20-04-2025  12:09             3,296 logging.ipynb\n",
      "20-04-2025  12:18             1,794 modules.ipynb\n",
      "20-04-2025  12:19                 0 notebook++.py\n",
      "20-04-2025  12:13                 0 notebook++.txt\n",
      "20-04-2025  11:59               350 shiv.log\n",
      "20-04-2025  11:57                 0 shiv1.log\n",
      "20-04-2025  11:52                66 test.log\n",
      "20-04-2025  11:18                38 test1.txt\n",
      "20-04-2025  10:55                13 test2.txt\n",
      "20-04-2025  10:59                13 test3.txt\n",
      "              13 File(s)         66,029 bytes\n",
      "               3 Dir(s)  83,874,394,112 bytes free\n"
     ]
    }
   ],
   "source": [
    "ls"
   ]
  },
  {
   "cell_type": "code",
   "execution_count": 8,
   "id": "7a037ffe-f2b9-40a5-9f06-212b1b47b48e",
   "metadata": {},
   "outputs": [],
   "source": [
    "f=open('test2.py','w')"
   ]
  },
  {
   "cell_type": "code",
   "execution_count": 10,
   "id": "1e351f29-2468-4372-9015-0a57603d6a2c",
   "metadata": {},
   "outputs": [],
   "source": [
    "import os"
   ]
  },
  {
   "cell_type": "code",
   "execution_count": 1,
   "id": "a7afece3-e248-43f5-a8dd-97998b2df3aa",
   "metadata": {},
   "outputs": [],
   "source": [
    "import test2"
   ]
  },
  {
   "cell_type": "code",
   "execution_count": 2,
   "id": "2e60fe91-d5e4-4fba-99b9-3c25e76ca272",
   "metadata": {},
   "outputs": [
    {
     "data": {
      "text/plain": [
       "77"
      ]
     },
     "execution_count": 2,
     "metadata": {},
     "output_type": "execute_result"
    }
   ],
   "source": [
    "test2.add(23,54)"
   ]
  },
  {
   "cell_type": "code",
   "execution_count": 3,
   "id": "5a4f57b8-fa4c-4d79-8be6-6991e9815085",
   "metadata": {},
   "outputs": [
    {
     "data": {
      "text/plain": [
       "-31"
      ]
     },
     "execution_count": 3,
     "metadata": {},
     "output_type": "execute_result"
    }
   ],
   "source": [
    "test2.substract(23,54)"
   ]
  },
  {
   "cell_type": "code",
   "execution_count": 4,
   "id": "48185a48-9e19-4b04-9acf-d1e775bf7bb0",
   "metadata": {},
   "outputs": [
    {
     "data": {
      "text/plain": [
       "'this module is for add , substract,multiply and division'"
      ]
     },
     "execution_count": 4,
     "metadata": {},
     "output_type": "execute_result"
    }
   ],
   "source": [
    "test2.test()"
   ]
  },
  {
   "cell_type": "code",
   "execution_count": 5,
   "id": "6abd3f2b-ee0e-46cf-8ef3-2e29bd79cc0e",
   "metadata": {},
   "outputs": [],
   "source": [
    "from test2 import add"
   ]
  },
  {
   "cell_type": "code",
   "execution_count": 7,
   "id": "e27943eb-9abb-4306-9858-428f904ff559",
   "metadata": {},
   "outputs": [
    {
     "data": {
      "text/plain": [
       "77"
      ]
     },
     "execution_count": 7,
     "metadata": {},
     "output_type": "execute_result"
    }
   ],
   "source": [
    "add(23,54)"
   ]
  },
  {
   "cell_type": "code",
   "execution_count": 1,
   "id": "1d2456b3-ca15-4791-ae96-2e3b18ce78d0",
   "metadata": {},
   "outputs": [],
   "source": [
    "from test2 import *"
   ]
  },
  {
   "cell_type": "code",
   "execution_count": 2,
   "id": "a9090ca0-52c9-407f-b95d-0cf4843836d8",
   "metadata": {},
   "outputs": [
    {
     "data": {
      "text/plain": [
       "166"
      ]
     },
     "execution_count": 2,
     "metadata": {},
     "output_type": "execute_result"
    }
   ],
   "source": [
    "add(123,43)"
   ]
  },
  {
   "cell_type": "code",
   "execution_count": 3,
   "id": "ba778778-0841-48e3-a1b2-84db61e466ac",
   "metadata": {},
   "outputs": [
    {
     "data": {
      "text/plain": [
       "3189"
      ]
     },
     "execution_count": 3,
     "metadata": {},
     "output_type": "execute_result"
    }
   ],
   "source": [
    "substract(3423,234)"
   ]
  },
  {
   "cell_type": "code",
   "execution_count": 1,
   "id": "02475d99-0f7b-4e71-9e21-cf1e13988073",
   "metadata": {},
   "outputs": [],
   "source": [
    "import my_module"
   ]
  },
  {
   "cell_type": "code",
   "execution_count": 2,
   "id": "51b1750c-4990-42da-a26d-b1e5b20ac9b2",
   "metadata": {},
   "outputs": [
    {
     "data": {
      "text/plain": [
       "'greeting from data'"
      ]
     },
     "execution_count": 2,
     "metadata": {},
     "output_type": "execute_result"
    }
   ],
   "source": [
    "my_module.greeting()"
   ]
  },
  {
   "cell_type": "code",
   "execution_count": 3,
   "id": "0659c372-7dbb-4029-99f0-6604d687a1f8",
   "metadata": {},
   "outputs": [
    {
     "data": {
      "text/plain": [
       "['data sciecnce', 'maths', 'python', 'machine learning']"
      ]
     },
     "execution_count": 3,
     "metadata": {},
     "output_type": "execute_result"
    }
   ],
   "source": [
    "my_module.get_course()"
   ]
  },
  {
   "cell_type": "code",
   "execution_count": 4,
   "id": "e128f5ab-a39c-4117-86b1-73913c925eb6",
   "metadata": {},
   "outputs": [],
   "source": [
    "#packages is nothing just a collection of a module"
   ]
  },
  {
   "cell_type": "code",
   "execution_count": null,
   "id": "41a08af1-4a86-4769-8994-49590a9c6d9c",
   "metadata": {},
   "outputs": [],
   "source": []
  }
 ],
 "metadata": {
  "kernelspec": {
   "display_name": "Python 3 (ipykernel)",
   "language": "python",
   "name": "python3"
  },
  "language_info": {
   "codemirror_mode": {
    "name": "ipython",
    "version": 3
   },
   "file_extension": ".py",
   "mimetype": "text/x-python",
   "name": "python",
   "nbconvert_exporter": "python",
   "pygments_lexer": "ipython3",
   "version": "3.12.7"
  }
 },
 "nbformat": 4,
 "nbformat_minor": 5
}

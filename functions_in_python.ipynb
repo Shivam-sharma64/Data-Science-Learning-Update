{
 "cells": [
  {
   "cell_type": "code",
   "execution_count": 2,
   "id": "5b040692",
   "metadata": {},
   "outputs": [],
   "source": [
    "#functions"
   ]
  },
  {
   "cell_type": "code",
   "execution_count": 3,
   "id": "75a87362",
   "metadata": {},
   "outputs": [
    {
     "name": "stdout",
     "output_type": "stream",
     "text": [
      "yes\n"
     ]
    }
   ],
   "source": [
    "a=5\n",
    "if a<10:\n",
    "    print(\"yes\")"
   ]
  },
  {
   "cell_type": "code",
   "execution_count": 4,
   "id": "d2794409",
   "metadata": {},
   "outputs": [],
   "source": [
    "def function_name(parameters):\n",
    "    return parameters"
   ]
  },
  {
   "cell_type": "code",
   "execution_count": 6,
   "id": "2ca38f5b",
   "metadata": {},
   "outputs": [
    {
     "data": {
      "text/plain": [
       "34"
      ]
     },
     "execution_count": 6,
     "metadata": {},
     "output_type": "execute_result"
    }
   ],
   "source": [
    "function_name(34)"
   ]
  },
  {
   "cell_type": "code",
   "execution_count": 7,
   "id": "9432ce32",
   "metadata": {},
   "outputs": [
    {
     "data": {
      "text/plain": [
       "'shivam'"
      ]
     },
     "execution_count": 7,
     "metadata": {},
     "output_type": "execute_result"
    }
   ],
   "source": [
    "function_name(\"shivam\")"
   ]
  },
  {
   "cell_type": "code",
   "execution_count": 8,
   "id": "a6aa8bf7",
   "metadata": {},
   "outputs": [
    {
     "name": "stdout",
     "output_type": "stream",
     "text": [
      "shivam\n"
     ]
    }
   ],
   "source": [
    "print(\"shivam\")"
   ]
  },
  {
   "cell_type": "code",
   "execution_count": 9,
   "id": "e35b9983",
   "metadata": {},
   "outputs": [
    {
     "data": {
      "text/plain": [
       "34"
      ]
     },
     "execution_count": 9,
     "metadata": {},
     "output_type": "execute_result"
    }
   ],
   "source": [
    "function_name(34)"
   ]
  },
  {
   "cell_type": "code",
   "execution_count": 10,
   "id": "4d7cf953",
   "metadata": {},
   "outputs": [],
   "source": [
    "def Welcome():\n",
    "    print(\"Welcome to day 7 of learning data science\")"
   ]
  },
  {
   "cell_type": "code",
   "execution_count": 11,
   "id": "284cd0f7",
   "metadata": {},
   "outputs": [
    {
     "name": "stdout",
     "output_type": "stream",
     "text": [
      "Welcome to day 7 of learning data science\n"
     ]
    }
   ],
   "source": [
    "Welcome()"
   ]
  },
  {
   "cell_type": "code",
   "execution_count": 12,
   "id": "c6d6f93d",
   "metadata": {},
   "outputs": [
    {
     "name": "stdout",
     "output_type": "stream",
     "text": [
      "Welcome to day 7 of learning data science\n"
     ]
    }
   ],
   "source": [
    "Welcome()"
   ]
  },
  {
   "cell_type": "code",
   "execution_count": 15,
   "id": "84d3476d",
   "metadata": {},
   "outputs": [
    {
     "name": "stdout",
     "output_type": "stream",
     "text": [
      "sum of the number 62\n"
     ]
    }
   ],
   "source": [
    "a=int(input(\"enter a number1\"))\n",
    "b=int(input(\"enter a number2\"))\n",
    "print(\"sum of the number\",a+b)"
   ]
  },
  {
   "cell_type": "code",
   "execution_count": 18,
   "id": "b46eab40",
   "metadata": {},
   "outputs": [],
   "source": [
    "def add(a,b):\n",
    "    return \"sum of the number\",a+b"
   ]
  },
  {
   "cell_type": "code",
   "execution_count": 19,
   "id": "61e9f8c2",
   "metadata": {},
   "outputs": [
    {
     "data": {
      "text/plain": [
       "('sum of the number', 90)"
      ]
     },
     "execution_count": 19,
     "metadata": {},
     "output_type": "execute_result"
    }
   ],
   "source": [
    "add(34,56)"
   ]
  },
  {
   "cell_type": "code",
   "execution_count": 20,
   "id": "bef94269",
   "metadata": {},
   "outputs": [],
   "source": [
    "import pandas"
   ]
  },
  {
   "cell_type": "code",
   "execution_count": null,
   "id": "d19fd971",
   "metadata": {},
   "outputs": [],
   "source": [
    "def info(e,anamge):\n",
    "    print(\"name: \",name)\n",
    "    print(\"age: \",age)\n"
   ]
  },
  {
   "cell_type": "code",
   "execution_count": 22,
   "id": "23af31ee",
   "metadata": {},
   "outputs": [
    {
     "name": "stdout",
     "output_type": "stream",
     "text": [
      "name:  shivam\n",
      "age:  20\n"
     ]
    }
   ],
   "source": [
    "info('shivam',20)"
   ]
  },
  {
   "cell_type": "code",
   "execution_count": 23,
   "id": "3e14eef9",
   "metadata": {},
   "outputs": [
    {
     "name": "stdout",
     "output_type": "stream",
     "text": [
      "name:  jkgjsdg\n",
      "age:  43\n"
     ]
    }
   ],
   "source": [
    "info(\"jkgjsdg\",43)"
   ]
  },
  {
   "cell_type": "code",
   "execution_count": 24,
   "id": "7836220b",
   "metadata": {},
   "outputs": [],
   "source": [
    "def total(*number):\n",
    "    return sum(number)"
   ]
  },
  {
   "cell_type": "code",
   "execution_count": 25,
   "id": "22b448ce",
   "metadata": {},
   "outputs": [
    {
     "data": {
      "text/plain": [
       "188"
      ]
     },
     "execution_count": 25,
     "metadata": {},
     "output_type": "execute_result"
    }
   ],
   "source": [
    "total(23,54,23,65,23)"
   ]
  },
  {
   "cell_type": "code",
   "execution_count": 26,
   "id": "bca4cd0b",
   "metadata": {},
   "outputs": [
    {
     "data": {
      "text/plain": [
       "235"
      ]
     },
     "execution_count": 26,
     "metadata": {},
     "output_type": "execute_result"
    }
   ],
   "source": [
    "total(23,54,23,56,23,56)"
   ]
  },
  {
   "cell_type": "code",
   "execution_count": 27,
   "id": "c673c976",
   "metadata": {},
   "outputs": [],
   "source": [
    "def print_func():\n",
    "    print(\"hello\")"
   ]
  },
  {
   "cell_type": "code",
   "execution_count": 29,
   "id": "9f495a06",
   "metadata": {},
   "outputs": [],
   "source": [
    "def return_func():\n",
    "    return \"hello\""
   ]
  },
  {
   "cell_type": "code",
   "execution_count": 31,
   "id": "d2011c48",
   "metadata": {},
   "outputs": [
    {
     "name": "stdout",
     "output_type": "stream",
     "text": [
      "hello\n"
     ]
    }
   ],
   "source": [
    "print_func()"
   ]
  },
  {
   "cell_type": "code",
   "execution_count": 32,
   "id": "8963cb39",
   "metadata": {},
   "outputs": [
    {
     "data": {
      "text/plain": [
       "'hello'"
      ]
     },
     "execution_count": 32,
     "metadata": {},
     "output_type": "execute_result"
    }
   ],
   "source": [
    "return_func()"
   ]
  },
  {
   "cell_type": "code",
   "execution_count": 33,
   "id": "317cd57e",
   "metadata": {},
   "outputs": [
    {
     "name": "stdout",
     "output_type": "stream",
     "text": [
      "hello\n"
     ]
    }
   ],
   "source": [
    "a=print_func()\n",
    "b=return_func()"
   ]
  },
  {
   "cell_type": "code",
   "execution_count": 34,
   "id": "0d71386a",
   "metadata": {},
   "outputs": [],
   "source": [
    "a"
   ]
  },
  {
   "cell_type": "code",
   "execution_count": 35,
   "id": "58221be9",
   "metadata": {},
   "outputs": [
    {
     "data": {
      "text/plain": [
       "'hello'"
      ]
     },
     "execution_count": 35,
     "metadata": {},
     "output_type": "execute_result"
    }
   ],
   "source": [
    "b"
   ]
  },
  {
   "cell_type": "code",
   "execution_count": 36,
   "id": "3bfd343b",
   "metadata": {},
   "outputs": [],
   "source": [
    "def check_positive_negative(a):\n",
    "    if a<0:\n",
    "        print(\"its a negative number\")\n",
    "    else:\n",
    "        print(\"its a positive number\")"
   ]
  },
  {
   "cell_type": "code",
   "execution_count": 37,
   "id": "64f8f255",
   "metadata": {},
   "outputs": [
    {
     "name": "stdout",
     "output_type": "stream",
     "text": [
      "its a positive number\n"
     ]
    }
   ],
   "source": [
    "check_positive_negative(34)"
   ]
  },
  {
   "cell_type": "code",
   "execution_count": 38,
   "id": "b7ac6638",
   "metadata": {},
   "outputs": [
    {
     "name": "stdout",
     "output_type": "stream",
     "text": [
      "its a negative number\n"
     ]
    }
   ],
   "source": [
    "check_positive_negative(-12)"
   ]
  },
  {
   "cell_type": "code",
   "execution_count": 40,
   "id": "4ef13613",
   "metadata": {},
   "outputs": [],
   "source": [
    "square=lambda x: x**2  "
   ]
  },
  {
   "cell_type": "code",
   "execution_count": 41,
   "id": "9aac2919",
   "metadata": {},
   "outputs": [
    {
     "name": "stdout",
     "output_type": "stream",
     "text": [
      "25\n"
     ]
    }
   ],
   "source": [
    "print(square(5))"
   ]
  },
  {
   "cell_type": "code",
   "execution_count": 42,
   "id": "50a4e6d6",
   "metadata": {},
   "outputs": [
    {
     "data": {
      "text/plain": [
       "36"
      ]
     },
     "execution_count": 42,
     "metadata": {},
     "output_type": "execute_result"
    }
   ],
   "source": [
    "square(6)"
   ]
  },
  {
   "cell_type": "code",
   "execution_count": 46,
   "id": "7a238c67",
   "metadata": {},
   "outputs": [],
   "source": [
    "add1= lambda a,b : a+b"
   ]
  },
  {
   "cell_type": "code",
   "execution_count": 47,
   "id": "00d0b029",
   "metadata": {},
   "outputs": [],
   "source": [
    "def add(a,b):\n",
    "    return a+b"
   ]
  },
  {
   "cell_type": "code",
   "execution_count": 48,
   "id": "1f104269",
   "metadata": {},
   "outputs": [
    {
     "data": {
      "text/plain": [
       "57"
      ]
     },
     "execution_count": 48,
     "metadata": {},
     "output_type": "execute_result"
    }
   ],
   "source": [
    "add(34,23)"
   ]
  },
  {
   "cell_type": "code",
   "execution_count": 49,
   "id": "9e6d15fa",
   "metadata": {},
   "outputs": [
    {
     "data": {
      "text/plain": [
       "57"
      ]
     },
     "execution_count": 49,
     "metadata": {},
     "output_type": "execute_result"
    }
   ],
   "source": [
    "add1(34,23)"
   ]
  },
  {
   "cell_type": "code",
   "execution_count": 50,
   "id": "4b3e6767",
   "metadata": {},
   "outputs": [],
   "source": [
    "nums=[1,2,3,4]\n",
    "squared=list(map(lambda x:x*x,nums))"
   ]
  },
  {
   "cell_type": "code",
   "execution_count": 51,
   "id": "4ee7b144",
   "metadata": {},
   "outputs": [
    {
     "data": {
      "text/plain": [
       "[1, 4, 9, 16]"
      ]
     },
     "execution_count": 51,
     "metadata": {},
     "output_type": "execute_result"
    }
   ],
   "source": [
    "squared"
   ]
  },
  {
   "cell_type": "code",
   "execution_count": 54,
   "id": "cef6fe75",
   "metadata": {},
   "outputs": [],
   "source": [
    "nums=[10,15,20,25,2,4,6,8,3,5,7]\n",
    "even=list(filter(lambda x:x%2==0,nums))"
   ]
  },
  {
   "cell_type": "code",
   "execution_count": 55,
   "id": "64aa3350",
   "metadata": {},
   "outputs": [
    {
     "data": {
      "text/plain": [
       "[10, 20, 2, 4, 6, 8]"
      ]
     },
     "execution_count": 55,
     "metadata": {},
     "output_type": "execute_result"
    }
   ],
   "source": [
    "even"
   ]
  },
  {
   "cell_type": "code",
   "execution_count": 56,
   "id": "2f7ef69b",
   "metadata": {},
   "outputs": [],
   "source": [
    "from functools import reduce"
   ]
  },
  {
   "cell_type": "code",
   "execution_count": 57,
   "id": "e3564700",
   "metadata": {},
   "outputs": [],
   "source": [
    "nums=[1,2,3,4]\n",
    "total=reduce(lambda a,b:a+b,nums)"
   ]
  },
  {
   "cell_type": "code",
   "execution_count": 58,
   "id": "d153011f",
   "metadata": {},
   "outputs": [
    {
     "data": {
      "text/plain": [
       "10"
      ]
     },
     "execution_count": 58,
     "metadata": {},
     "output_type": "execute_result"
    }
   ],
   "source": [
    "total"
   ]
  },
  {
   "cell_type": "code",
   "execution_count": 64,
   "id": "459af626",
   "metadata": {},
   "outputs": [],
   "source": [
    "prices=[100,200,300]\n",
    "final_price=list(map(lambda x: round(x*1.18,2),prices))"
   ]
  },
  {
   "cell_type": "code",
   "execution_count": 65,
   "id": "a0ac166c",
   "metadata": {},
   "outputs": [
    {
     "data": {
      "text/plain": [
       "[118.0, 236.0, 354.0]"
      ]
     },
     "execution_count": 65,
     "metadata": {},
     "output_type": "execute_result"
    }
   ],
   "source": [
    "final_price"
   ]
  },
  {
   "cell_type": "code",
   "execution_count": null,
   "id": "f5410cb4",
   "metadata": {},
   "outputs": [],
   "source": [
    "#assingment\n",
    "write a function to check whether a number is prime or not\n",
    "use map() too aquare numbers from 1 to 10\n",
    "use filter() to extract names with more than 5 letters\n",
    "use reduce() to find product of a list"
   ]
  }
 ],
 "metadata": {
  "kernelspec": {
   "display_name": "Python 3",
   "language": "python",
   "name": "python3"
  },
  "language_info": {
   "codemirror_mode": {
    "name": "ipython",
    "version": 3
   },
   "file_extension": ".py",
   "mimetype": "text/x-python",
   "name": "python",
   "nbconvert_exporter": "python",
   "pygments_lexer": "ipython3",
   "version": "3.12.10"
  }
 },
 "nbformat": 4,
 "nbformat_minor": 5
}

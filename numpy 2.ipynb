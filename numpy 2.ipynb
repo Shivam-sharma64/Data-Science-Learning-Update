{
 "cells": [
  {
   "cell_type": "code",
   "execution_count": 1,
   "id": "51c96686-3b59-4cd6-b835-cdcc0156bc36",
   "metadata": {},
   "outputs": [],
   "source": [
    "import numpy as np"
   ]
  },
  {
   "cell_type": "code",
   "execution_count": 3,
   "id": "7f5fcbb3-a241-49c7-abc2-40bd434c6f43",
   "metadata": {},
   "outputs": [],
   "source": [
    "l=[12,23,32,54]"
   ]
  },
  {
   "cell_type": "code",
   "execution_count": 4,
   "id": "5ed30a36-99ea-4300-b003-bf2b931eaf23",
   "metadata": {},
   "outputs": [
    {
     "data": {
      "text/plain": [
       "array([12, 23, 32, 54])"
      ]
     },
     "execution_count": 4,
     "metadata": {},
     "output_type": "execute_result"
    }
   ],
   "source": [
    "np.array(l)"
   ]
  },
  {
   "cell_type": "code",
   "execution_count": 5,
   "id": "a4ca913d-4d94-4165-89c7-19898e9982d1",
   "metadata": {},
   "outputs": [
    {
     "data": {
      "text/plain": [
       "array([0., 0., 0., 0., 0.])"
      ]
     },
     "execution_count": 5,
     "metadata": {},
     "output_type": "execute_result"
    }
   ],
   "source": [
    "np.zeros(5)"
   ]
  },
  {
   "cell_type": "code",
   "execution_count": 6,
   "id": "aab7013f-cc79-4ca5-be26-5cbcb8b8f700",
   "metadata": {},
   "outputs": [
    {
     "data": {
      "text/plain": [
       "array([[0., 0., 0., 0.],\n",
       "       [0., 0., 0., 0.],\n",
       "       [0., 0., 0., 0.]])"
      ]
     },
     "execution_count": 6,
     "metadata": {},
     "output_type": "execute_result"
    }
   ],
   "source": [
    "np.zeros((3,4))"
   ]
  },
  {
   "cell_type": "code",
   "execution_count": 7,
   "id": "5265e41c-1d99-49b7-8335-9eec4d852206",
   "metadata": {},
   "outputs": [
    {
     "data": {
      "text/plain": [
       "array([[[0., 0., 0., 0., 0.],\n",
       "        [0., 0., 0., 0., 0.],\n",
       "        [0., 0., 0., 0., 0.],\n",
       "        [0., 0., 0., 0., 0.]],\n",
       "\n",
       "       [[0., 0., 0., 0., 0.],\n",
       "        [0., 0., 0., 0., 0.],\n",
       "        [0., 0., 0., 0., 0.],\n",
       "        [0., 0., 0., 0., 0.]],\n",
       "\n",
       "       [[0., 0., 0., 0., 0.],\n",
       "        [0., 0., 0., 0., 0.],\n",
       "        [0., 0., 0., 0., 0.],\n",
       "        [0., 0., 0., 0., 0.]]])"
      ]
     },
     "execution_count": 7,
     "metadata": {},
     "output_type": "execute_result"
    }
   ],
   "source": [
    "np.zeros((3,4,5))"
   ]
  },
  {
   "cell_type": "code",
   "execution_count": 8,
   "id": "f538216a-37dd-4c0e-8bb7-cbe7c8599b1f",
   "metadata": {},
   "outputs": [
    {
     "data": {
      "text/plain": [
       "array([1., 1., 1., 1., 1.])"
      ]
     },
     "execution_count": 8,
     "metadata": {},
     "output_type": "execute_result"
    }
   ],
   "source": [
    "np.ones(5)"
   ]
  },
  {
   "cell_type": "code",
   "execution_count": 9,
   "id": "fd01167c-5c14-420a-ade3-0275fe428db0",
   "metadata": {},
   "outputs": [
    {
     "data": {
      "text/plain": [
       "array([[1., 1., 1., 1., 1., 1.],\n",
       "       [1., 1., 1., 1., 1., 1.],\n",
       "       [1., 1., 1., 1., 1., 1.]])"
      ]
     },
     "execution_count": 9,
     "metadata": {},
     "output_type": "execute_result"
    }
   ],
   "source": [
    "np.ones((3,6))"
   ]
  },
  {
   "cell_type": "code",
   "execution_count": 11,
   "id": "df23b391-583b-4466-9d9a-5dcb99fccce6",
   "metadata": {},
   "outputs": [
    {
     "data": {
      "text/plain": [
       "array([[5., 5., 5., 5.],\n",
       "       [5., 5., 5., 5.],\n",
       "       [5., 5., 5., 5.]])"
      ]
     },
     "execution_count": 11,
     "metadata": {},
     "output_type": "execute_result"
    }
   ],
   "source": [
    "#broadcasting\n",
    "5+np.zeros((3,4))"
   ]
  },
  {
   "cell_type": "code",
   "execution_count": 12,
   "id": "a0f6926c-2515-4796-9cb3-d9d61b8ca151",
   "metadata": {},
   "outputs": [
    {
     "data": {
      "text/plain": [
       "array([[[6.23042070e-307, 4.67296746e-307, 1.69121096e-306,\n",
       "         4.67293691e-307],\n",
       "        [1.33511018e-306, 1.33511969e-306, 6.23037996e-307,\n",
       "         6.23053954e-307],\n",
       "        [9.34609790e-307, 8.45593934e-307, 9.34600963e-307,\n",
       "         9.34603000e-307]],\n",
       "\n",
       "       [[1.78018403e-306, 8.90106955e-307, 1.60218491e-306,\n",
       "         1.78018403e-306],\n",
       "        [1.69119330e-306, 6.23054633e-307, 1.24610927e-306,\n",
       "         1.05698817e-307],\n",
       "        [1.11261638e-306, 1.33511562e-306, 2.22522596e-306,\n",
       "         2.22507386e-306]]])"
      ]
     },
     "execution_count": 12,
     "metadata": {},
     "output_type": "execute_result"
    }
   ],
   "source": [
    "np.empty((2,3,4))"
   ]
  },
  {
   "cell_type": "code",
   "execution_count": 13,
   "id": "7cd540b0-74bc-449a-a131-48819931b4c0",
   "metadata": {},
   "outputs": [
    {
     "data": {
      "text/plain": [
       "array([2.        , 2.08163265, 2.16326531, 2.24489796, 2.32653061,\n",
       "       2.40816327, 2.48979592, 2.57142857, 2.65306122, 2.73469388,\n",
       "       2.81632653, 2.89795918, 2.97959184, 3.06122449, 3.14285714,\n",
       "       3.2244898 , 3.30612245, 3.3877551 , 3.46938776, 3.55102041,\n",
       "       3.63265306, 3.71428571, 3.79591837, 3.87755102, 3.95918367,\n",
       "       4.04081633, 4.12244898, 4.20408163, 4.28571429, 4.36734694,\n",
       "       4.44897959, 4.53061224, 4.6122449 , 4.69387755, 4.7755102 ,\n",
       "       4.85714286, 4.93877551, 5.02040816, 5.10204082, 5.18367347,\n",
       "       5.26530612, 5.34693878, 5.42857143, 5.51020408, 5.59183673,\n",
       "       5.67346939, 5.75510204, 5.83673469, 5.91836735, 6.        ])"
      ]
     },
     "execution_count": 13,
     "metadata": {},
     "output_type": "execute_result"
    }
   ],
   "source": [
    "np.linspace(2,6)"
   ]
  },
  {
   "cell_type": "code",
   "execution_count": 19,
   "id": "3b23f27b-d85a-41d7-acbb-3b62a931f0ef",
   "metadata": {},
   "outputs": [
    {
     "data": {
      "text/plain": [
       "array([[ 0.        ,  1.11111111],\n",
       "       [ 2.22222222,  3.33333333],\n",
       "       [ 4.44444444,  5.55555556],\n",
       "       [ 6.66666667,  7.77777778],\n",
       "       [ 8.88888889, 10.        ]])"
      ]
     },
     "execution_count": 19,
     "metadata": {},
     "output_type": "execute_result"
    }
   ],
   "source": [
    "np.linspace(0,10,10).reshape(5,2)"
   ]
  },
  {
   "cell_type": "code",
   "execution_count": 23,
   "id": "c7af7ace-2353-4044-a6e6-12e1336a4cae",
   "metadata": {},
   "outputs": [
    {
     "data": {
      "text/plain": [
       "array([  100.        ,   166.81005372,   278.25594022,   464.15888336,\n",
       "         774.26368268,  1291.54966501,  2154.43469003,  3593.8136638 ,\n",
       "        5994.84250319, 10000.        ])"
      ]
     },
     "execution_count": 23,
     "metadata": {},
     "output_type": "execute_result"
    }
   ],
   "source": [
    "np.logspace(2,4,10,base=10)"
   ]
  },
  {
   "cell_type": "code",
   "execution_count": 28,
   "id": "8203536e-c1e7-4294-9c83-f9249f5d5f12",
   "metadata": {},
   "outputs": [],
   "source": [
    "a=np.arange(4,20).reshape(4,4)"
   ]
  },
  {
   "cell_type": "code",
   "execution_count": 29,
   "id": "cb4fb6a5-0525-4faa-8ee6-f2e211e6f596",
   "metadata": {},
   "outputs": [
    {
     "data": {
      "text/plain": [
       "array([[ 4,  5,  6,  7],\n",
       "       [ 8,  9, 10, 11],\n",
       "       [12, 13, 14, 15],\n",
       "       [16, 17, 18, 19]])"
      ]
     },
     "execution_count": 29,
     "metadata": {},
     "output_type": "execute_result"
    }
   ],
   "source": [
    "a"
   ]
  },
  {
   "cell_type": "code",
   "execution_count": 30,
   "id": "401a7387-b512-42f8-82a3-d5e7adba82c8",
   "metadata": {},
   "outputs": [
    {
     "data": {
      "text/plain": [
       "19"
      ]
     },
     "execution_count": 30,
     "metadata": {},
     "output_type": "execute_result"
    }
   ],
   "source": [
    "a.max()"
   ]
  },
  {
   "cell_type": "code",
   "execution_count": 3,
   "id": "89a56b77-3de2-4c72-a842-0a79a1f2e38d",
   "metadata": {},
   "outputs": [],
   "source": [
    "a=np.array([12,23,23,54,23])"
   ]
  },
  {
   "cell_type": "code",
   "execution_count": 4,
   "id": "11b28a69-cec1-4226-841c-d2fb4d9ddb42",
   "metadata": {},
   "outputs": [],
   "source": [
    "b=np.array([12,32,23,54,23])"
   ]
  },
  {
   "cell_type": "code",
   "execution_count": 5,
   "id": "61e5349c-77a9-4a0f-ab00-f2d291638713",
   "metadata": {},
   "outputs": [
    {
     "data": {
      "text/plain": [
       "array([ 24,  55,  46, 108,  46])"
      ]
     },
     "execution_count": 5,
     "metadata": {},
     "output_type": "execute_result"
    }
   ],
   "source": [
    "a+b"
   ]
  },
  {
   "cell_type": "code",
   "execution_count": 6,
   "id": "f55c3bba-2f0c-4d61-9b43-002beb0829d1",
   "metadata": {},
   "outputs": [],
   "source": [
    "b=b.reshape(1,-1)"
   ]
  },
  {
   "cell_type": "code",
   "execution_count": 7,
   "id": "4bc23b96-961d-4d21-aeb3-bedc2835f85f",
   "metadata": {},
   "outputs": [
    {
     "data": {
      "text/plain": [
       "array([[12, 32, 23, 54, 23]])"
      ]
     },
     "execution_count": 7,
     "metadata": {},
     "output_type": "execute_result"
    }
   ],
   "source": [
    "\n",
    "b"
   ]
  },
  {
   "cell_type": "code",
   "execution_count": 9,
   "id": "a94c1566-8521-43d0-97a5-79b17f17295b",
   "metadata": {},
   "outputs": [
    {
     "data": {
      "text/plain": [
       "array([[ 24,  35,  35,  66,  35],\n",
       "       [ 44,  55,  55,  86,  55],\n",
       "       [ 35,  46,  46,  77,  46],\n",
       "       [ 66,  77,  77, 108,  77],\n",
       "       [ 35,  46,  46,  77,  46]])"
      ]
     },
     "execution_count": 9,
     "metadata": {},
     "output_type": "execute_result"
    }
   ],
   "source": [
    "b.T+a"
   ]
  },
  {
   "cell_type": "code",
   "execution_count": 10,
   "id": "dd490eb1-9d3a-4136-a6a2-504014753e0b",
   "metadata": {},
   "outputs": [
    {
     "data": {
      "text/plain": [
       "1727822980432"
      ]
     },
     "execution_count": 10,
     "metadata": {},
     "output_type": "execute_result"
    }
   ],
   "source": [
    "id(a)"
   ]
  },
  {
   "cell_type": "code",
   "execution_count": 11,
   "id": "13de7e6a-ad82-4dde-a817-643f0955e710",
   "metadata": {},
   "outputs": [
    {
     "data": {
      "text/plain": [
       "1727822985808"
      ]
     },
     "execution_count": 11,
     "metadata": {},
     "output_type": "execute_result"
    }
   ],
   "source": [
    "id(b)"
   ]
  },
  {
   "cell_type": "code",
   "execution_count": null,
   "id": "a89c162b-c06a-4a5d-8897-eb9c08a9e01a",
   "metadata": {},
   "outputs": [],
   "source": []
  }
 ],
 "metadata": {
  "kernelspec": {
   "display_name": "Python 3 (ipykernel)",
   "language": "python",
   "name": "python3"
  },
  "language_info": {
   "codemirror_mode": {
    "name": "ipython",
    "version": 3
   },
   "file_extension": ".py",
   "mimetype": "text/x-python",
   "name": "python",
   "nbconvert_exporter": "python",
   "pygments_lexer": "ipython3",
   "version": "3.12.7"
  }
 },
 "nbformat": 4,
 "nbformat_minor": 5
}

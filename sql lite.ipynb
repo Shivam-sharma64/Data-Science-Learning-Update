{
 "cells": [
  {
   "cell_type": "code",
   "execution_count": 1,
   "id": "75ab6fc4-9afd-4850-b6db-3ffe5699855d",
   "metadata": {},
   "outputs": [],
   "source": [
    "import sqlite3"
   ]
  },
  {
   "cell_type": "code",
   "execution_count": 4,
   "id": "ee6c03a7-2897-4c31-8339-cb04fef3350d",
   "metadata": {},
   "outputs": [],
   "source": [
    "db=sqlite3.connect(\"test.db\")"
   ]
  },
  {
   "cell_type": "code",
   "execution_count": 9,
   "id": "10b87118-d133-492e-a529-b2770b1bec8e",
   "metadata": {},
   "outputs": [],
   "source": [
    "cursor=db.cursor()"
   ]
  },
  {
   "cell_type": "code",
   "execution_count": 10,
   "id": "8bbbb2b6-2d4f-4335-8358-2eed08bfa88f",
   "metadata": {},
   "outputs": [
    {
     "data": {
      "text/plain": [
       "<sqlite3.Cursor at 0x20768002d40>"
      ]
     },
     "execution_count": 10,
     "metadata": {},
     "output_type": "execute_result"
    }
   ],
   "source": [
    "cursor.execute('create table data_science(name text, seriesno int, marks real)')"
   ]
  },
  {
   "cell_type": "code",
   "execution_count": 11,
   "id": "78ecb2de-d6e9-419a-b339-75b97deed7a6",
   "metadata": {},
   "outputs": [
    {
     "data": {
      "text/plain": [
       "<sqlite3.Cursor at 0x20768002d40>"
      ]
     },
     "execution_count": 11,
     "metadata": {},
     "output_type": "execute_result"
    }
   ],
   "source": [
    "cursor.execute('insert into data_science values(\"shviam\",123541,234.12)')"
   ]
  },
  {
   "cell_type": "code",
   "execution_count": 33,
   "id": "f0a3adff-1c62-4de4-a627-f3e02d6b616b",
   "metadata": {},
   "outputs": [
    {
     "data": {
      "text/plain": [
       "<sqlite3.Cursor at 0x207680e1a40>"
      ]
     },
     "execution_count": 33,
     "metadata": {},
     "output_type": "execute_result"
    }
   ],
   "source": [
    "cursor.execute('insert into data_science values(\"shviam\",123541,234.12)')\n",
    "cursor.execute('insert into data_science values(\"shviam\",123541,234.12)')\n",
    "cursor.execute('insert into data_science values(\"shviam\",123541,234.12)')\n",
    "cursor.execute('insert into data_science values(\"shivam\",123541,234.12)')\n",
    "cursor.execute('insert into data_science values(\"shivam\",123541,234.12)')\n",
    "cursor.execute('insert into data_science values(\"shivam\",123541,234.12)')\n",
    "cursor.execute('insert into data_science values(\"shivam\",123541,234.12)')\n",
    "cursor.execute('insert into data_science values(\"shivam\",123541,234.12)')"
   ]
  },
  {
   "cell_type": "code",
   "execution_count": 15,
   "id": "dbc91c27-524d-470d-ab0a-f6d0dd78535f",
   "metadata": {},
   "outputs": [
    {
     "data": {
      "text/plain": [
       "<sqlite3.Cursor at 0x20768002d40>"
      ]
     },
     "execution_count": 15,
     "metadata": {},
     "output_type": "execute_result"
    }
   ],
   "source": [
    "cursor.execute('select * from data_science')"
   ]
  },
  {
   "cell_type": "code",
   "execution_count": 16,
   "id": "a10ccedd-2ade-43e2-abe9-f54df7d05d44",
   "metadata": {},
   "outputs": [
    {
     "data": {
      "text/plain": [
       "[('shviam', 123541, 234.12),\n",
       " ('shviam', 123541, 234.12),\n",
       " ('shviam', 123541, 234.12),\n",
       " ('shviam', 123541, 234.12),\n",
       " ('shviam', 123541, 234.12),\n",
       " ('shviam', 123541, 234.12),\n",
       " ('shviam', 123541, 234.12),\n",
       " ('shviam', 123541, 234.12),\n",
       " ('shviam', 123541, 234.12),\n",
       " ('shviam', 123541, 234.12),\n",
       " ('shviam', 123541, 234.12)]"
      ]
     },
     "execution_count": 16,
     "metadata": {},
     "output_type": "execute_result"
    }
   ],
   "source": [
    "cursor.fetchall()"
   ]
  },
  {
   "cell_type": "code",
   "execution_count": 17,
   "id": "098e265a-59e2-4df2-bd61-bed10797e289",
   "metadata": {},
   "outputs": [],
   "source": [
    "data=cursor.execute('select * from data_science')"
   ]
  },
  {
   "cell_type": "code",
   "execution_count": 18,
   "id": "8d9f8c79-b7a8-487a-b3e6-3ae2bc1b7d99",
   "metadata": {},
   "outputs": [
    {
     "name": "stdout",
     "output_type": "stream",
     "text": [
      "('shviam', 123541, 234.12)\n",
      "('shviam', 123541, 234.12)\n",
      "('shviam', 123541, 234.12)\n",
      "('shviam', 123541, 234.12)\n",
      "('shviam', 123541, 234.12)\n",
      "('shviam', 123541, 234.12)\n",
      "('shviam', 123541, 234.12)\n",
      "('shviam', 123541, 234.12)\n",
      "('shviam', 123541, 234.12)\n",
      "('shviam', 123541, 234.12)\n",
      "('shviam', 123541, 234.12)\n"
     ]
    }
   ],
   "source": [
    "for i in data:\n",
    "    print(i)"
   ]
  },
  {
   "cell_type": "code",
   "execution_count": 19,
   "id": "479bf730-624c-43e7-8fb5-11d0269d5488",
   "metadata": {},
   "outputs": [],
   "source": [
    "db.commit()"
   ]
  },
  {
   "cell_type": "code",
   "execution_count": 20,
   "id": "c73dcec4-d2e9-4ac8-9714-4c920cd10287",
   "metadata": {},
   "outputs": [],
   "source": [
    "db.close()"
   ]
  },
  {
   "cell_type": "code",
   "execution_count": 24,
   "id": "a9622af9-7cb6-4f98-a4e1-30213badfc93",
   "metadata": {},
   "outputs": [],
   "source": [
    "db=sqlite3.connect(\"test.db\")"
   ]
  },
  {
   "cell_type": "code",
   "execution_count": 25,
   "id": "1e8c668b-6af7-4a97-bb2e-265c8fe136e6",
   "metadata": {},
   "outputs": [],
   "source": [
    "cursor=db.cursor()"
   ]
  },
  {
   "cell_type": "code",
   "execution_count": 26,
   "id": "b7da8923-06d4-4308-9d78-a5f66e670258",
   "metadata": {},
   "outputs": [
    {
     "data": {
      "text/plain": [
       "<sqlite3.Cursor at 0x207680e1a40>"
      ]
     },
     "execution_count": 26,
     "metadata": {},
     "output_type": "execute_result"
    }
   ],
   "source": [
    "cursor.execute(\"select * from data_science where marks >100\")"
   ]
  },
  {
   "cell_type": "code",
   "execution_count": 27,
   "id": "d41857bb-5afc-4216-a19f-bd4eaab85ddd",
   "metadata": {},
   "outputs": [
    {
     "data": {
      "text/plain": [
       "[('shviam', 123541, 234.12),\n",
       " ('shviam', 123541, 234.12),\n",
       " ('shviam', 123541, 234.12),\n",
       " ('shviam', 123541, 234.12),\n",
       " ('shviam', 123541, 234.12),\n",
       " ('shviam', 123541, 234.12),\n",
       " ('shviam', 123541, 234.12),\n",
       " ('shviam', 123541, 234.12),\n",
       " ('shviam', 123541, 234.12),\n",
       " ('shviam', 123541, 234.12),\n",
       " ('shviam', 123541, 234.12)]"
      ]
     },
     "execution_count": 27,
     "metadata": {},
     "output_type": "execute_result"
    }
   ],
   "source": [
    "cursor.fetchall()"
   ]
  },
  {
   "cell_type": "code",
   "execution_count": 34,
   "id": "4c02b832-d771-4ff8-a16e-df5cd16a7794",
   "metadata": {},
   "outputs": [],
   "source": [
    "data=cursor.execute(\"select * from data_science where name='shivam'\")"
   ]
  },
  {
   "cell_type": "code",
   "execution_count": 35,
   "id": "3b981309-1718-4b49-a159-77ae9dbab1cc",
   "metadata": {},
   "outputs": [
    {
     "name": "stdout",
     "output_type": "stream",
     "text": [
      "('shivam', 123541, 234.12)\n",
      "('shivam', 123541, 234.12)\n",
      "('shivam', 123541, 234.12)\n",
      "('shivam', 123541, 234.12)\n",
      "('shivam', 123541, 234.12)\n"
     ]
    }
   ],
   "source": [
    "for i in data:\n",
    "    print(i)"
   ]
  },
  {
   "cell_type": "code",
   "execution_count": 36,
   "id": "d871e3ad-f2c4-4f29-ba8d-3aafe54387f8",
   "metadata": {},
   "outputs": [
    {
     "data": {
      "text/plain": [
       "<sqlite3.Cursor at 0x207680e1a40>"
      ]
     },
     "execution_count": 36,
     "metadata": {},
     "output_type": "execute_result"
    }
   ],
   "source": [
    "cursor.execute('select name,marks from data_science')"
   ]
  },
  {
   "cell_type": "code",
   "execution_count": 37,
   "id": "75b5b6c3-75e0-4319-8e0a-8ca4655cf613",
   "metadata": {},
   "outputs": [
    {
     "data": {
      "text/plain": [
       "[('shviam', 234.12),\n",
       " ('shviam', 234.12),\n",
       " ('shviam', 234.12),\n",
       " ('shviam', 234.12),\n",
       " ('shviam', 234.12),\n",
       " ('shviam', 234.12),\n",
       " ('shviam', 234.12),\n",
       " ('shviam', 234.12),\n",
       " ('shviam', 234.12),\n",
       " ('shviam', 234.12),\n",
       " ('shviam', 234.12),\n",
       " ('shviam', 234.12),\n",
       " ('shviam', 234.12),\n",
       " ('shviam', 234.12),\n",
       " ('shivam', 234.12),\n",
       " ('shivam', 234.12),\n",
       " ('shivam', 234.12),\n",
       " ('shivam', 234.12),\n",
       " ('shivam', 234.12)]"
      ]
     },
     "execution_count": 37,
     "metadata": {},
     "output_type": "execute_result"
    }
   ],
   "source": [
    "cursor.fetchall()"
   ]
  },
  {
   "cell_type": "code",
   "execution_count": 39,
   "id": "28b7f42f-2b17-48e4-8e0e-8e710b2640be",
   "metadata": {},
   "outputs": [],
   "source": [
    "data=cursor.execute('select * from data_science order by marks')"
   ]
  },
  {
   "cell_type": "code",
   "execution_count": 40,
   "id": "38c857de-8e97-4ac1-8e6d-b0fcfe26d236",
   "metadata": {},
   "outputs": [
    {
     "name": "stdout",
     "output_type": "stream",
     "text": [
      "('shviam', 123541, 234.12)\n",
      "('shviam', 123541, 234.12)\n",
      "('shviam', 123541, 234.12)\n",
      "('shviam', 123541, 234.12)\n",
      "('shviam', 123541, 234.12)\n",
      "('shviam', 123541, 234.12)\n",
      "('shviam', 123541, 234.12)\n",
      "('shviam', 123541, 234.12)\n",
      "('shviam', 123541, 234.12)\n",
      "('shviam', 123541, 234.12)\n",
      "('shviam', 123541, 234.12)\n",
      "('shviam', 123541, 234.12)\n",
      "('shviam', 123541, 234.12)\n",
      "('shviam', 123541, 234.12)\n",
      "('shivam', 123541, 234.12)\n",
      "('shivam', 123541, 234.12)\n",
      "('shivam', 123541, 234.12)\n",
      "('shivam', 123541, 234.12)\n",
      "('shivam', 123541, 234.12)\n"
     ]
    }
   ],
   "source": [
    "for i in data:\n",
    "    print(i)"
   ]
  },
  {
   "cell_type": "code",
   "execution_count": 41,
   "id": "4ef7ef7b-a36f-4435-b929-61fd7c2b3b35",
   "metadata": {},
   "outputs": [],
   "source": [
    "db.close()"
   ]
  },
  {
   "cell_type": "code",
   "execution_count": 43,
   "id": "fe589731-0cf9-4556-a62a-b036e53f753d",
   "metadata": {},
   "outputs": [],
   "source": [
    "db=sqlite3.connect(\"person.db\")"
   ]
  },
  {
   "cell_type": "code",
   "execution_count": 44,
   "id": "38b08bb5-60c3-46ec-b40a-5d428ce5ba4b",
   "metadata": {},
   "outputs": [],
   "source": [
    "cursor=db.cursor()"
   ]
  },
  {
   "cell_type": "code",
   "execution_count": 45,
   "id": "0e7cfe2f-1e1a-4bbb-9688-20472498c909",
   "metadata": {},
   "outputs": [
    {
     "data": {
      "text/plain": [
       "<sqlite3.Cursor at 0x207681023c0>"
      ]
     },
     "execution_count": 45,
     "metadata": {},
     "output_type": "execute_result"
    }
   ],
   "source": [
    "cursor.execute('create table person_table(name text, email text, age int , salary real)')"
   ]
  },
  {
   "cell_type": "code",
   "execution_count": 46,
   "id": "500abbff-30f7-4909-973a-b93d2c0091bd",
   "metadata": {},
   "outputs": [
    {
     "data": {
      "text/plain": [
       "<sqlite3.Cursor at 0x207681023c0>"
      ]
     },
     "execution_count": 46,
     "metadata": {},
     "output_type": "execute_result"
    }
   ],
   "source": [
    "cursor.execute('insert into person_table values(\"shivam\",\"shivam@gmail.com\",21,2343412)')\n",
    "cursor.execute('insert into person_table values(\"raj\",\"raj@gmail.com\",22,2343413)')\n",
    "cursor.execute('insert into person_table values(\"priya\",\"priya@gmail.com\",20,2343414)')\n",
    "cursor.execute('insert into person_table values(\"amit\",\"amit@gmail.com\",23,2343415)')\n",
    "cursor.execute('insert into person_table values(\"anita\",\"anita@gmail.com\",24,2343416)')\n",
    "cursor.execute('insert into person_table values(\"karan\",\"karan@gmail.com\",25,2343417)')\n",
    "cursor.execute('insert into person_table values(\"deepa\",\"deepa@gmail.com\",26,2343418)')\n",
    "cursor.execute('insert into person_table values(\"suman\",\"suman@gmail.com\",27,2343419)')\n",
    "cursor.execute('insert into person_table values(\"vijay\",\"vijay@gmail.com\",28,2343420)')\n",
    "cursor.execute('insert into person_table values(\"meena\",\"meena@gmail.com\",29,2343421)')\n",
    "cursor.execute('insert into person_table values(\"rahul\",\"rahul@gmail.com\",30,2343422)')\n",
    "cursor.execute('insert into person_table values(\"nisha\",\"nisha@gmail.com\",31,2343423)')\n",
    "cursor.execute('insert into person_table values(\"sachin\",\"sachin@gmail.com\",32,2343424)')\n",
    "cursor.execute('insert into person_table values(\"neha\",\"neha@gmail.com\",33,2343425)')\n",
    "cursor.execute('insert into person_table values(\"arjun\",\"arjun@gmail.com\",34,2343426)')\n",
    "cursor.execute('insert into person_table values(\"pooja\",\"pooja@gmail.com\",35,2343427)')\n",
    "cursor.execute('insert into person_table values(\"manoj\",\"manoj@gmail.com\",36,2343428)')\n",
    "cursor.execute('insert into person_table values(\"rani\",\"rani@gmail.com\",37,2343429)')\n",
    "cursor.execute('insert into person_table values(\"suresh\",\"suresh@gmail.com\",38,2343430)')\n",
    "cursor.execute('insert into person_table values(\"kiran\",\"kiran@gmail.com\",39,2343431)')\n",
    "cursor.execute('insert into person_table values(\"rekha\",\"rekha@gmail.com\",40,2343432)')\n",
    "cursor.execute('insert into person_table values(\"naveen\",\"naveen@gmail.com\",41,2343433)')\n",
    "cursor.execute('insert into person_table values(\"jyoti\",\"jyoti@gmail.com\",42,2343434)')\n",
    "cursor.execute('insert into person_table values(\"alok\",\"alok@gmail.com\",43,2343435)')\n",
    "cursor.execute('insert into person_table values(\"seema\",\"seema@gmail.com\",44,2343436)')\n",
    "cursor.execute('insert into person_table values(\"deepika\",\"deepika@gmail.com\",6,762367)')"
   ]
  },
  {
   "cell_type": "code",
   "execution_count": 85,
   "id": "919be01b-a707-4e43-895f-35f3b13e1e62",
   "metadata": {},
   "outputs": [
    {
     "data": {
      "text/plain": [
       "<sqlite3.Cursor at 0x20768001840>"
      ]
     },
     "execution_count": 85,
     "metadata": {},
     "output_type": "execute_result"
    }
   ],
   "source": [
    "cursor.execute('select * from person_table')"
   ]
  },
  {
   "cell_type": "code",
   "execution_count": 86,
   "id": "79d7fa8b-ab15-45b4-9cf2-7903b8ffbbec",
   "metadata": {},
   "outputs": [
    {
     "data": {
      "text/plain": [
       "[('shivam', 'shivam@gmail.com', 21, 2343412.0),\n",
       " ('raj', 'raj@gmail.com', 22, 2343413.0),\n",
       " ('priya', 'priya@gmail.com', 20, 2343414.0),\n",
       " ('amit', 'amit@gmail.com', 23, 2343415.0),\n",
       " ('anita', 'anita@gmail.com', 24, 2343416.0),\n",
       " ('karan', 'karan@gmail.com', 25, 2343417.0),\n",
       " ('deepa', 'deepa@gmail.com', 26, 2343418.0),\n",
       " ('suman', 'suman@gmail.com', 27, 2343419.0),\n",
       " ('vijay', 'vijay@gmail.com', 28, 2343420.0),\n",
       " ('meena', 'meena@gmail.com', 29, 2343421.0),\n",
       " ('rahul', 'rahul@gmail.com', 30, 2343422.0),\n",
       " ('nisha', 'nisha@gmail.com', 31, 2343423.0),\n",
       " ('sachin', 'sachin@gmail.com', 32, 2343424.0),\n",
       " ('neha', 'neha@gmail.com', 33, 2343425.0),\n",
       " ('arjun', 'arjun@gmail.com', 34, 2343426.0),\n",
       " ('pooja', 'pooja@gmail.com', 35, 2343427.0),\n",
       " ('manoj', 'manoj@gmail.com', 36, 2343428.0),\n",
       " ('rani', 'rani@gmail.com', 37, 2343429.0),\n",
       " ('suresh', 'suresh@gmail.com', 38, 2343430.0),\n",
       " ('kiran', 'kiran@gmail.com', 39, 2343431.0),\n",
       " ('rekha', 'rekha@gmail.com', 40, 2343432.0),\n",
       " ('naveen', 'naveen@gmail.com', 41, 2343433.0),\n",
       " ('jyoti', 'jyoti@gmail.com', 42, 2343434.0),\n",
       " ('alok', 'alok@gmail.com', 43, 2343435.0),\n",
       " ('seema', 'seema@gmail.com', 44, 2343436.0),\n",
       " ('deepika', 'deepika@gmail.com', 6, 762367.0)]"
      ]
     },
     "execution_count": 86,
     "metadata": {},
     "output_type": "execute_result"
    }
   ],
   "source": [
    "cursor.fetchall()"
   ]
  },
  {
   "cell_type": "code",
   "execution_count": 54,
   "id": "b7c66c39-bca5-4fea-9109-39066e6a795b",
   "metadata": {},
   "outputs": [],
   "source": [
    "db.commit()"
   ]
  },
  {
   "cell_type": "code",
   "execution_count": 55,
   "id": "39defed4-b577-44e4-87e8-d53eaea52c0c",
   "metadata": {},
   "outputs": [],
   "source": [
    "db.close()"
   ]
  },
  {
   "cell_type": "code",
   "execution_count": 56,
   "id": "6c6b456b-de4f-4d2b-8914-fa3af9afbf8f",
   "metadata": {},
   "outputs": [],
   "source": [
    "db=sqlite3.connect('test.db')"
   ]
  },
  {
   "cell_type": "code",
   "execution_count": 57,
   "id": "c8a87fb8-bd3a-4533-904c-318cc7c5d614",
   "metadata": {},
   "outputs": [],
   "source": [
    "c=db.cursor()"
   ]
  },
  {
   "cell_type": "code",
   "execution_count": 58,
   "id": "761c2e39-d56f-409f-9abe-51b6181f8762",
   "metadata": {},
   "outputs": [
    {
     "data": {
      "text/plain": [
       "<sqlite3.Cursor at 0x207681026c0>"
      ]
     },
     "execution_count": 58,
     "metadata": {},
     "output_type": "execute_result"
    }
   ],
   "source": [
    "c.execute('drop table data_science')"
   ]
  },
  {
   "cell_type": "code",
   "execution_count": 59,
   "id": "50c3884e-684d-44f5-8190-e1631641501c",
   "metadata": {},
   "outputs": [
    {
     "ename": "OperationalError",
     "evalue": "no such table: data_science",
     "output_type": "error",
     "traceback": [
      "\u001b[1;31m---------------------------------------------------------------------------\u001b[0m",
      "\u001b[1;31mOperationalError\u001b[0m                          Traceback (most recent call last)",
      "Cell \u001b[1;32mIn[59], line 1\u001b[0m\n\u001b[1;32m----> 1\u001b[0m c\u001b[38;5;241m.\u001b[39mexecute(\u001b[38;5;124m'\u001b[39m\u001b[38;5;124mselect * from data_science\u001b[39m\u001b[38;5;124m'\u001b[39m)\n",
      "\u001b[1;31mOperationalError\u001b[0m: no such table: data_science"
     ]
    }
   ],
   "source": [
    "c.execute('select * from data_science')"
   ]
  },
  {
   "cell_type": "code",
   "execution_count": 60,
   "id": "5b6e0ae9-1dcf-4514-b7b5-a978a05cb7d9",
   "metadata": {},
   "outputs": [],
   "source": [
    "db.commit()"
   ]
  },
  {
   "cell_type": "code",
   "execution_count": 61,
   "id": "134ee03d-5317-4320-a273-916ed910b5c5",
   "metadata": {},
   "outputs": [],
   "source": [
    "db.close()"
   ]
  },
  {
   "cell_type": "code",
   "execution_count": 80,
   "id": "2da117ac-1aa8-49f9-9cc9-03b276860f74",
   "metadata": {},
   "outputs": [],
   "source": [
    "db=sqlite3.connect('person.db')"
   ]
  },
  {
   "cell_type": "code",
   "execution_count": 83,
   "id": "4d888430-796d-4eec-a8d1-25342a2ac477",
   "metadata": {},
   "outputs": [],
   "source": [
    "c=db.cursor()"
   ]
  },
  {
   "cell_type": "code",
   "execution_count": 82,
   "id": "4de60339-bc9a-4419-8829-a78baf1fd63a",
   "metadata": {},
   "outputs": [],
   "source": [
    "data=c.execute('select * from person_table limit 2')"
   ]
  },
  {
   "cell_type": "code",
   "execution_count": 78,
   "id": "83a6f746-f1bd-411e-9e75-6f2f352f9074",
   "metadata": {},
   "outputs": [
    {
     "name": "stdout",
     "output_type": "stream",
     "text": [
      "('shivam', 'shivam@gmail.com', 21, 2343412.0)\n",
      "('raj', 'raj@gmail.com', 22, 2343413.0)\n"
     ]
    }
   ],
   "source": [
    "for i in data:\n",
    "    print(i)"
   ]
  },
  {
   "cell_type": "code",
   "execution_count": 87,
   "id": "ea2cf8c3-795c-4b4b-8dab-104e4c104e61",
   "metadata": {},
   "outputs": [],
   "source": [
    "db.commit()"
   ]
  },
  {
   "cell_type": "code",
   "execution_count": 88,
   "id": "292e8bbf-1297-482d-9551-79985d751b4f",
   "metadata": {},
   "outputs": [],
   "source": [
    "db.close()"
   ]
  },
  {
   "cell_type": "code",
   "execution_count": 91,
   "id": "4bd4a6e1-4c6d-431c-bdcd-7783f3bcf93c",
   "metadata": {},
   "outputs": [],
   "source": [
    "db=sqlite3.connect(\"join.db\")"
   ]
  },
  {
   "cell_type": "code",
   "execution_count": 92,
   "id": "715b15ae-7fe7-4b2e-8754-d72ccb9105bf",
   "metadata": {},
   "outputs": [],
   "source": [
    "c=db.cursor()"
   ]
  },
  {
   "cell_type": "code",
   "execution_count": 93,
   "id": "5d4e8101-5ced-41fb-88b9-8cf8b6da718e",
   "metadata": {},
   "outputs": [
    {
     "data": {
      "text/plain": [
       "<sqlite3.Cursor at 0x20768100740>"
      ]
     },
     "execution_count": 93,
     "metadata": {},
     "output_type": "execute_result"
    }
   ],
   "source": [
    "c.execute('create table student(student_id int,student_name text,student_mailid text,marks int)')"
   ]
  },
  {
   "cell_type": "code",
   "execution_count": 96,
   "id": "1301f65d-3bcd-47db-a3c7-ff0d154876cd",
   "metadata": {},
   "outputs": [
    {
     "data": {
      "text/plain": [
       "<sqlite3.Cursor at 0x20768100740>"
      ]
     },
     "execution_count": 96,
     "metadata": {},
     "output_type": "execute_result"
    }
   ],
   "source": [
    "c.execute('create table address(student_id int,pincode int,location text,phone_number int)')"
   ]
  },
  {
   "cell_type": "code",
   "execution_count": 97,
   "id": "598922cb-c115-4331-b0a4-921ffbe8a78a",
   "metadata": {},
   "outputs": [
    {
     "data": {
      "text/plain": [
       "<sqlite3.Cursor at 0x20768100740>"
      ]
     },
     "execution_count": 97,
     "metadata": {},
     "output_type": "execute_result"
    }
   ],
   "source": [
    "c.execute('insert into student values(3254, \"Shivam\", \"shivam@gmail.com\", 324)')\n",
    "c.execute('insert into student values(3255, \"Anjali\", \"anjali123@gmail.com\", 451)')\n",
    "c.execute('insert into student values(3256, \"Rohit\", \"rohit_kumar@gmail.com\", 382)')\n",
    "c.execute('insert into student values(3257, \"Neha\", \"neha.mehta@gmail.com\", 498)')\n",
    "c.execute('insert into student values(3258, \"Amit\", \"amit22@gmail.com\", 409)')\n",
    "c.execute('insert into student values(3259, \"Kiran\", \"kiran.rao@gmail.com\", 367)')\n",
    "c.execute('insert into student values(3260, \"Meena\", \"meena.sharma@gmail.com\", 440)')\n",
    "c.execute('insert into student values(3261, \"Suresh\", \"suresh_das@gmail.com\", 375)')\n",
    "c.execute('insert into student values(3262, \"Rani\", \"rani.singh@gmail.com\", 412)')\n",
    "c.execute('insert into student values(3263, \"Vikas\", \"vikas.mishra@gmail.com\", 459)')"
   ]
  },
  {
   "cell_type": "code",
   "execution_count": 99,
   "id": "7bf753bb-dc26-4c99-98e5-9302ca8ba01d",
   "metadata": {},
   "outputs": [
    {
     "data": {
      "text/plain": [
       "<sqlite3.Cursor at 0x20768100740>"
      ]
     },
     "execution_count": 99,
     "metadata": {},
     "output_type": "execute_result"
    }
   ],
   "source": [
    "c.execute('insert into address values(3245,353514,\"rohtak\",999999999)')\n",
    "c.execute('insert into address values(3254, 110001, \"Delhi\", 9876543210)')\n",
    "c.execute('insert into address values(3255, 400001, \"Mumbai\", 9823456789)')\n",
    "c.execute('insert into address values(3256, 560001, \"Bangalore\", 9845012345)')\n",
    "c.execute('insert into address values(3257, 700001, \"Kolkata\", 9830023456)')\n",
    "c.execute('insert into address values(3258, 600001, \"Chennai\", 9789456123)')\n",
    "c.execute('insert into address values(3259, 302001, \"Jaipur\", 9928045678)')\n",
    "c.execute('insert into address values(3260, 380001, \"Ahmedabad\", 9723456780)')\n",
    "c.execute('insert into address values(3261, 500001, \"Hyderabad\", 9908765432)')\n",
    "c.execute('insert into address values(3262, 751001, \"Bhubaneswar\", 9098765432)')\n",
    "c.execute('insert into address values(3263, 160017, \"Chandigarh\", 9878001234)')\n",
    "c.execute('insert into address values(3264, 208001, \"Kanpur\", 9839012345)')\n",
    "c.execute('insert into address values(3274, 683101, \"Kochi\", 9801234567)')\n",
    "c.execute('insert into address values(3275, 695001, \"Trivandrum\", 9945678901)')\n",
    "c.execute('insert into address values(3276, 570001, \"Mysore\", 9487654321)')"
   ]
  },
  {
   "cell_type": "code",
   "execution_count": 101,
   "id": "28eb596c-f91d-4ce9-b9bf-92c7c7ebdab7",
   "metadata": {},
   "outputs": [
    {
     "name": "stdout",
     "output_type": "stream",
     "text": [
      "(3254, 'Shivam', 'shivam@gmail.com', 324)\n",
      "(3255, 'Anjali', 'anjali123@gmail.com', 451)\n",
      "(3256, 'Rohit', 'rohit_kumar@gmail.com', 382)\n",
      "(3257, 'Neha', 'neha.mehta@gmail.com', 498)\n",
      "(3258, 'Amit', 'amit22@gmail.com', 409)\n",
      "(3259, 'Kiran', 'kiran.rao@gmail.com', 367)\n",
      "(3260, 'Meena', 'meena.sharma@gmail.com', 440)\n",
      "(3261, 'Suresh', 'suresh_das@gmail.com', 375)\n",
      "(3262, 'Rani', 'rani.singh@gmail.com', 412)\n",
      "(3263, 'Vikas', 'vikas.mishra@gmail.com', 459)\n"
     ]
    }
   ],
   "source": [
    "for i in c.execute('select * from student'):\n",
    "    print(i)"
   ]
  },
  {
   "cell_type": "code",
   "execution_count": 102,
   "id": "f1cdb38c-b98e-4d1e-baf3-7548784f3bc8",
   "metadata": {},
   "outputs": [
    {
     "name": "stdout",
     "output_type": "stream",
     "text": [
      "(3245, 353514, 'rohtak', 999999999)\n",
      "(3245, 353514, 'rohtak', 999999999)\n",
      "(3254, 110001, 'Delhi', 9876543210)\n",
      "(3255, 400001, 'Mumbai', 9823456789)\n",
      "(3256, 560001, 'Bangalore', 9845012345)\n",
      "(3257, 700001, 'Kolkata', 9830023456)\n",
      "(3258, 600001, 'Chennai', 9789456123)\n",
      "(3259, 302001, 'Jaipur', 9928045678)\n",
      "(3260, 380001, 'Ahmedabad', 9723456780)\n",
      "(3261, 500001, 'Hyderabad', 9908765432)\n",
      "(3262, 751001, 'Bhubaneswar', 9098765432)\n",
      "(3263, 160017, 'Chandigarh', 9878001234)\n",
      "(3264, 208001, 'Kanpur', 9839012345)\n",
      "(3274, 683101, 'Kochi', 9801234567)\n",
      "(3275, 695001, 'Trivandrum', 9945678901)\n",
      "(3276, 570001, 'Mysore', 9487654321)\n"
     ]
    }
   ],
   "source": [
    "for i in c.execute('select * from address'):\n",
    "    print(i)"
   ]
  },
  {
   "cell_type": "code",
   "execution_count": 105,
   "id": "7c743d06-44fe-42a1-a316-72659f8b18f4",
   "metadata": {},
   "outputs": [],
   "source": [
    "data=c.execute('select * from student s left join address a on s.student_id = a.student_id ')"
   ]
  },
  {
   "cell_type": "code",
   "execution_count": 106,
   "id": "f2a382ea-f291-4cb0-a23b-fdd4d9977820",
   "metadata": {},
   "outputs": [
    {
     "name": "stdout",
     "output_type": "stream",
     "text": [
      "(3254, 'Shivam', 'shivam@gmail.com', 324, 3254, 110001, 'Delhi', 9876543210)\n",
      "(3255, 'Anjali', 'anjali123@gmail.com', 451, 3255, 400001, 'Mumbai', 9823456789)\n",
      "(3256, 'Rohit', 'rohit_kumar@gmail.com', 382, 3256, 560001, 'Bangalore', 9845012345)\n",
      "(3257, 'Neha', 'neha.mehta@gmail.com', 498, 3257, 700001, 'Kolkata', 9830023456)\n",
      "(3258, 'Amit', 'amit22@gmail.com', 409, 3258, 600001, 'Chennai', 9789456123)\n",
      "(3259, 'Kiran', 'kiran.rao@gmail.com', 367, 3259, 302001, 'Jaipur', 9928045678)\n",
      "(3260, 'Meena', 'meena.sharma@gmail.com', 440, 3260, 380001, 'Ahmedabad', 9723456780)\n",
      "(3261, 'Suresh', 'suresh_das@gmail.com', 375, 3261, 500001, 'Hyderabad', 9908765432)\n",
      "(3262, 'Rani', 'rani.singh@gmail.com', 412, 3262, 751001, 'Bhubaneswar', 9098765432)\n",
      "(3263, 'Vikas', 'vikas.mishra@gmail.com', 459, 3263, 160017, 'Chandigarh', 9878001234)\n"
     ]
    }
   ],
   "source": [
    "for i in data:\n",
    "    print(i)"
   ]
  },
  {
   "cell_type": "code",
   "execution_count": 107,
   "id": "94269e88-ab3a-4397-8c98-b88ae441b560",
   "metadata": {},
   "outputs": [
    {
     "data": {
      "text/plain": [
       "<sqlite3.Cursor at 0x20768100740>"
      ]
     },
     "execution_count": 107,
     "metadata": {},
     "output_type": "execute_result"
    }
   ],
   "source": [
    "c.execute('delete from student where student_id>3270')"
   ]
  },
  {
   "cell_type": "code",
   "execution_count": 109,
   "id": "7ccc8def-e857-49c8-8234-8ed19fdaffa9",
   "metadata": {},
   "outputs": [
    {
     "data": {
      "text/plain": [
       "<sqlite3.Cursor at 0x20768100740>"
      ]
     },
     "execution_count": 109,
     "metadata": {},
     "output_type": "execute_result"
    }
   ],
   "source": [
    "c.execute('select * from student')"
   ]
  },
  {
   "cell_type": "code",
   "execution_count": 110,
   "id": "b961211a-c918-46bf-9950-8edab1b72224",
   "metadata": {},
   "outputs": [
    {
     "data": {
      "text/plain": [
       "[(3254, 'Shivam', 'shivam@gmail.com', 324),\n",
       " (3255, 'Anjali', 'anjali123@gmail.com', 451),\n",
       " (3256, 'Rohit', 'rohit_kumar@gmail.com', 382),\n",
       " (3257, 'Neha', 'neha.mehta@gmail.com', 498),\n",
       " (3258, 'Amit', 'amit22@gmail.com', 409),\n",
       " (3259, 'Kiran', 'kiran.rao@gmail.com', 367),\n",
       " (3260, 'Meena', 'meena.sharma@gmail.com', 440),\n",
       " (3261, 'Suresh', 'suresh_das@gmail.com', 375),\n",
       " (3262, 'Rani', 'rani.singh@gmail.com', 412),\n",
       " (3263, 'Vikas', 'vikas.mishra@gmail.com', 459)]"
      ]
     },
     "execution_count": 110,
     "metadata": {},
     "output_type": "execute_result"
    }
   ],
   "source": [
    "c.fetchall()"
   ]
  },
  {
   "cell_type": "code",
   "execution_count": 111,
   "id": "c0161244-1cbb-4863-aeb5-bd59eb8bbf90",
   "metadata": {},
   "outputs": [
    {
     "data": {
      "text/plain": [
       "<sqlite3.Cursor at 0x20768100740>"
      ]
     },
     "execution_count": 111,
     "metadata": {},
     "output_type": "execute_result"
    }
   ],
   "source": [
    "c.execute('UPDATE student set student_id=1000 where student_id=3254')"
   ]
  },
  {
   "cell_type": "code",
   "execution_count": 112,
   "id": "6f8494fe-fd07-4817-bba2-898e5d982022",
   "metadata": {},
   "outputs": [
    {
     "name": "stdout",
     "output_type": "stream",
     "text": [
      "(1000, 'Shivam', 'shivam@gmail.com', 324)\n",
      "(3255, 'Anjali', 'anjali123@gmail.com', 451)\n",
      "(3256, 'Rohit', 'rohit_kumar@gmail.com', 382)\n",
      "(3257, 'Neha', 'neha.mehta@gmail.com', 498)\n",
      "(3258, 'Amit', 'amit22@gmail.com', 409)\n",
      "(3259, 'Kiran', 'kiran.rao@gmail.com', 367)\n",
      "(3260, 'Meena', 'meena.sharma@gmail.com', 440)\n",
      "(3261, 'Suresh', 'suresh_das@gmail.com', 375)\n",
      "(3262, 'Rani', 'rani.singh@gmail.com', 412)\n",
      "(3263, 'Vikas', 'vikas.mishra@gmail.com', 459)\n"
     ]
    }
   ],
   "source": [
    "for i in c.execute('select * from student'):\n",
    "    print(i)"
   ]
  },
  {
   "cell_type": "code",
   "execution_count": 115,
   "id": "f4bccddf-a1ab-467d-b285-b2d676b1678a",
   "metadata": {},
   "outputs": [],
   "source": [
    "db.close()"
   ]
  },
  {
   "cell_type": "code",
   "execution_count": null,
   "id": "90f53b5a-96ce-4ddd-bf3b-d9a3bf5020e3",
   "metadata": {},
   "outputs": [],
   "source": []
  },
  {
   "cell_type": "code",
   "execution_count": null,
   "id": "0b406d08-02a2-489a-a715-8e85b2ebd7bb",
   "metadata": {},
   "outputs": [],
   "source": []
  }
 ],
 "metadata": {
  "kernelspec": {
   "display_name": "Python 3 (ipykernel)",
   "language": "python",
   "name": "python3"
  },
  "language_info": {
   "codemirror_mode": {
    "name": "ipython",
    "version": 3
   },
   "file_extension": ".py",
   "mimetype": "text/x-python",
   "name": "python",
   "nbconvert_exporter": "python",
   "pygments_lexer": "ipython3",
   "version": "3.12.7"
  }
 },
 "nbformat": 4,
 "nbformat_minor": 5
}

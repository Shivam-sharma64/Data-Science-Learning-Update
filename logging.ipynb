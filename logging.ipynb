{
 "cells": [
  {
   "cell_type": "code",
   "execution_count": 1,
   "id": "1d087e0a-755c-4151-80f1-e07601479a1e",
   "metadata": {},
   "outputs": [
    {
     "name": "stdout",
     "output_type": "stream",
     "text": [
      "tjkbgsdjk\n"
     ]
    }
   ],
   "source": [
    "print(\"tjkbgsdjk\")"
   ]
  },
  {
   "cell_type": "code",
   "execution_count": 2,
   "id": "c051e3fb-3038-4919-bc12-ffe5a03d16ce",
   "metadata": {},
   "outputs": [],
   "source": [
    "import logging"
   ]
  },
  {
   "cell_type": "code",
   "execution_count": 3,
   "id": "4a24484e-1840-48f5-9175-5c110f6097d1",
   "metadata": {},
   "outputs": [],
   "source": [
    "logging.basicConfig(filename = \"shiv.log\")"
   ]
  },
  {
   "cell_type": "code",
   "execution_count": 4,
   "id": "2c441434-bb8e-4c59-a53d-e7ee146df03d",
   "metadata": {},
   "outputs": [],
   "source": [
    "logging.info(\"this is my logging file\")\n",
    "logging.warning(\"this id ,y warnign log\")\n",
    "logging.error(\"this is my error log\")"
   ]
  },
  {
   "cell_type": "code",
   "execution_count": 5,
   "id": "1225f0b6-5ea7-49d4-877b-d9406be30c98",
   "metadata": {},
   "outputs": [],
   "source": [
    "logging.shutdown()"
   ]
  },
  {
   "cell_type": "code",
   "execution_count": 6,
   "id": "f4fe5217-bcd9-433a-9913-add3aec0bf26",
   "metadata": {},
   "outputs": [
    {
     "data": {
      "text/plain": [
       "'DEBUG\\nERROR\\nWARNING\\nINFO\\nCIRITICAL'"
      ]
     },
     "execution_count": 6,
     "metadata": {},
     "output_type": "execute_result"
    }
   ],
   "source": [
    "\"\"\"DEBUG\n",
    "ERROR\n",
    "WARNING\n",
    "INFO\n",
    "CIRITICAL\"\"\""
   ]
  },
  {
   "cell_type": "code",
   "execution_count": 7,
   "id": "f7eb3fc6-946d-47d6-bac1-07fb691e4d0a",
   "metadata": {},
   "outputs": [],
   "source": [
    "\n",
    "logging.basicConfig(filename = \"shiv.log\",level=logging.INFO)"
   ]
  },
  {
   "cell_type": "code",
   "execution_count": 8,
   "id": "03c8feb8-5eb6-4c3f-8ec7-ef78a9b7299a",
   "metadata": {},
   "outputs": [],
   "source": [
    "logging.basicConfig(filename = \"shiv1.log\",level=logging.DEBUG,format='%(acstime)s %(message)s')"
   ]
  },
  {
   "cell_type": "code",
   "execution_count": 9,
   "id": "7c8b73f1-3cbb-409b-b3b2-4c1cb6973095",
   "metadata": {},
   "outputs": [],
   "source": [
    "import logging"
   ]
  },
  {
   "cell_type": "code",
   "execution_count": 10,
   "id": "fd179464-39e1-4d27-8c52-3c4ca53e730d",
   "metadata": {},
   "outputs": [],
   "source": [
    "logging.info(\"this is my logging file\")\n",
    "logging.warning(\"this id ,y warnign log\")\n",
    "logging.error(\"this is my error log\")"
   ]
  },
  {
   "cell_type": "code",
   "execution_count": null,
   "id": "a9d38007-34aa-4312-bae9-9a14690fd759",
   "metadata": {},
   "outputs": [],
   "source": []
  }
 ],
 "metadata": {
  "kernelspec": {
   "display_name": "Python 3 (ipykernel)",
   "language": "python",
   "name": "python3"
  },
  "language_info": {
   "codemirror_mode": {
    "name": "ipython",
    "version": 3
   },
   "file_extension": ".py",
   "mimetype": "text/x-python",
   "name": "python",
   "nbconvert_exporter": "python",
   "pygments_lexer": "ipython3",
   "version": "3.12.7"
  }
 },
 "nbformat": 4,
 "nbformat_minor": 5
}

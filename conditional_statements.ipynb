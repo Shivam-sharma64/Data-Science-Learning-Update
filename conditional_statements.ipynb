{
 "cells": [
  {
   "cell_type": "code",
   "execution_count": 30,
   "id": "ff91a246",
   "metadata": {},
   "outputs": [
    {
     "name": "stdout",
     "output_type": "stream",
     "text": [
      "you are not an adult\n"
     ]
    }
   ],
   "source": [
    "age=17\n",
    "if age>=18:\n",
    "    print(\"You are an adult\")\n",
    "else:\n",
    "    print(\"you are not an adult\")"
   ]
  },
  {
   "cell_type": "code",
   "execution_count": 31,
   "id": "1f2d859d",
   "metadata": {},
   "outputs": [
    {
     "data": {
      "text/plain": [
       "True"
      ]
     },
     "execution_count": 31,
     "metadata": {},
     "output_type": "execute_result"
    }
   ],
   "source": [
    "age=20\n",
    "age>=18"
   ]
  },
  {
   "cell_type": "code",
   "execution_count": 32,
   "id": "1b964199",
   "metadata": {},
   "outputs": [
    {
     "ename": "NameError",
     "evalue": "name 'condition' is not defined",
     "output_type": "error",
     "traceback": [
      "\u001b[31m---------------------------------------------------------------------------\u001b[39m",
      "\u001b[31mNameError\u001b[39m                                 Traceback (most recent call last)",
      "\u001b[36mCell\u001b[39m\u001b[36m \u001b[39m\u001b[32mIn[32]\u001b[39m\u001b[32m, line 2\u001b[39m\n\u001b[32m      1\u001b[39m \u001b[38;5;66;03m#syntax \u001b[39;00m\n\u001b[32m----> \u001b[39m\u001b[32m2\u001b[39m \u001b[38;5;28;01mif\u001b[39;00m \u001b[43mcondition\u001b[49m :\n\u001b[32m      3\u001b[39m     statement\n\u001b[32m      4\u001b[39m     stat1\n",
      "\u001b[31mNameError\u001b[39m: name 'condition' is not defined"
     ]
    }
   ],
   "source": [
    "#syntax \n",
    "if condition :\n",
    "    statement\n",
    "    stat1\n",
    "    stat2\n",
    "else:\n",
    "    stat1\n",
    "    stat2\n",
    "    stat3"
   ]
  },
  {
   "cell_type": "code",
   "execution_count": null,
   "id": "d665f464",
   "metadata": {},
   "outputs": [
    {
     "name": "stdout",
     "output_type": "stream",
     "text": [
      "passed\n"
     ]
    }
   ],
   "source": [
    "marks=50\n",
    "if marks<33:\n",
    "    print(\"You are failed in exam\")\n",
    "else:\n",
    "    print(\"passed\")"
   ]
  },
  {
   "cell_type": "code",
   "execution_count": null,
   "id": "dfaa7289",
   "metadata": {},
   "outputs": [],
   "source": [
    "#multiple conditions with elif"
   ]
  },
  {
   "cell_type": "code",
   "execution_count": null,
   "id": "ebc226be",
   "metadata": {},
   "outputs": [],
   "source": [
    "if condition:\n",
    "    statement\n",
    "elif condition:\n",
    "    statement\n",
    "else:\n",
    "    statement"
   ]
  },
  {
   "cell_type": "code",
   "execution_count": 34,
   "id": "5e0a814c",
   "metadata": {},
   "outputs": [],
   "source": [
    "age=17\n",
    "if age>=18:\n",
    "    pass"
   ]
  },
  {
   "cell_type": "code",
   "execution_count": 36,
   "id": "068fda73",
   "metadata": {},
   "outputs": [
    {
     "name": "stdout",
     "output_type": "stream",
     "text": [
      "garde d\n"
     ]
    }
   ],
   "source": [
    "marks=65\n",
    "if marks>=90:\n",
    "    print(\"Grade A\")\n",
    "elif marks>=70:\n",
    "    print(\"Grade B\")\n",
    "elif marks>=50:\n",
    "    print(\"garde d\")\n",
    "else:\n",
    "    print(\"Grade C\")"
   ]
  },
  {
   "cell_type": "code",
   "execution_count": 37,
   "id": "49575801",
   "metadata": {},
   "outputs": [],
   "source": [
    "#operators"
   ]
  },
  {
   "cell_type": "code",
   "execution_count": 38,
   "id": "965cc3fc",
   "metadata": {},
   "outputs": [],
   "source": [
    "a=4\n",
    "b=5"
   ]
  },
  {
   "cell_type": "code",
   "execution_count": 39,
   "id": "933e8f1d",
   "metadata": {},
   "outputs": [
    {
     "data": {
      "text/plain": [
       "False"
      ]
     },
     "execution_count": 39,
     "metadata": {},
     "output_type": "execute_result"
    }
   ],
   "source": [
    "a==b"
   ]
  },
  {
   "cell_type": "code",
   "execution_count": 40,
   "id": "c7e650a4",
   "metadata": {},
   "outputs": [
    {
     "data": {
      "text/plain": [
       "True"
      ]
     },
     "execution_count": 40,
     "metadata": {},
     "output_type": "execute_result"
    }
   ],
   "source": [
    "a!=b"
   ]
  },
  {
   "cell_type": "code",
   "execution_count": 41,
   "id": "a11c46f2",
   "metadata": {},
   "outputs": [
    {
     "data": {
      "text/plain": [
       "False"
      ]
     },
     "execution_count": 41,
     "metadata": {},
     "output_type": "execute_result"
    }
   ],
   "source": [
    "a>b"
   ]
  },
  {
   "cell_type": "code",
   "execution_count": 42,
   "id": "4beaa5b6",
   "metadata": {},
   "outputs": [
    {
     "data": {
      "text/plain": [
       "True"
      ]
     },
     "execution_count": 42,
     "metadata": {},
     "output_type": "execute_result"
    }
   ],
   "source": [
    "a<b"
   ]
  },
  {
   "cell_type": "code",
   "execution_count": 43,
   "id": "48eee6fe",
   "metadata": {},
   "outputs": [
    {
     "data": {
      "text/plain": [
       "False"
      ]
     },
     "execution_count": 43,
     "metadata": {},
     "output_type": "execute_result"
    }
   ],
   "source": [
    "a>=b"
   ]
  },
  {
   "cell_type": "code",
   "execution_count": 44,
   "id": "acfd2767",
   "metadata": {},
   "outputs": [
    {
     "data": {
      "text/plain": [
       "True"
      ]
     },
     "execution_count": 44,
     "metadata": {},
     "output_type": "execute_result"
    }
   ],
   "source": [
    "a<=b"
   ]
  },
  {
   "cell_type": "code",
   "execution_count": 49,
   "id": "9ce81c58",
   "metadata": {},
   "outputs": [
    {
     "name": "stdout",
     "output_type": "stream",
     "text": [
      "its a even number\n"
     ]
    }
   ],
   "source": [
    "number=int(input(\"Enter a number\"))\n",
    "if number%2==0:\n",
    "    print(\"its a even number\")\n",
    "else:\n",
    "    print(\"Its a odd number\")"
   ]
  },
  {
   "cell_type": "code",
   "execution_count": 50,
   "id": "53da8520",
   "metadata": {},
   "outputs": [
    {
     "name": "stdout",
     "output_type": "stream",
     "text": [
      "yes,you can apply for a driving licence\n"
     ]
    }
   ],
   "source": [
    "age=int(input(\"enter you age here\"))\n",
    "if age>=18:\n",
    "    print(\"yes,you can apply for a driving licence\")\n",
    "else:\n",
    "    print(\"You are not able to apply, wait more\")"
   ]
  },
  {
   "cell_type": "code",
   "execution_count": 54,
   "id": "142fdef5",
   "metadata": {},
   "outputs": [
    {
     "name": "stdout",
     "output_type": "stream",
     "text": [
      "login failed, enter valid details\n"
     ]
    }
   ],
   "source": [
    "username=\"admin\"\n",
    "password=1234\n",
    "user_input=input(\"enter your username\")\n",
    "user_password=int(input(\"enter your password\"))\n",
    "if username==user_input and password==user_password:\n",
    "    print(\"loggin successfull\")\n",
    "else:\n",
    "    print(\"login failed, enter valid details\")"
   ]
  },
  {
   "cell_type": "code",
   "execution_count": 55,
   "id": "9bce7bf5",
   "metadata": {},
   "outputs": [
    {
     "name": "stdout",
     "output_type": "stream",
     "text": [
      "You are eligible for the exam\n"
     ]
    }
   ],
   "source": [
    "marks=85\n",
    "attendence=92\n",
    "if marks>=80:\n",
    "    if attendence>=75:\n",
    "        print(\"You are eligible for the exam\")\n",
    "    else:\n",
    "        print(\"Your attendence is low\")\n",
    "else:\n",
    "    print(\"your marks are low\")"
   ]
  },
  {
   "cell_type": "code",
   "execution_count": null,
   "id": "f955c3d7",
   "metadata": {},
   "outputs": [],
   "source": [
    "#write a program that cecks a number and prints whetever it is :\n",
    "postive\n",
    "negative\n",
    "zero"
   ]
  },
  {
   "cell_type": "code",
   "execution_count": null,
   "id": "1ff62369",
   "metadata": {},
   "outputs": [],
   "source": []
  }
 ],
 "metadata": {
  "kernelspec": {
   "display_name": "Python 3",
   "language": "python",
   "name": "python3"
  },
  "language_info": {
   "name": "python",
   "version": "3.12.10"
  }
 },
 "nbformat": 4,
 "nbformat_minor": 5
}

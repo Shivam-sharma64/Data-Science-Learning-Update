{
 "cells": [
  {
   "cell_type": "code",
   "execution_count": 7,
   "id": "5726781f",
   "metadata": {},
   "outputs": [],
   "source": [
    "list=[]"
   ]
  },
  {
   "cell_type": "code",
   "execution_count": 8,
   "id": "ca3082b7",
   "metadata": {},
   "outputs": [
    {
     "data": {
      "text/plain": [
       "[]"
      ]
     },
     "execution_count": 8,
     "metadata": {},
     "output_type": "execute_result"
    }
   ],
   "source": [
    "list"
   ]
  },
  {
   "cell_type": "code",
   "execution_count": 9,
   "id": "df044987",
   "metadata": {},
   "outputs": [],
   "source": [
    "list1=[1,2,3,41,54,23]"
   ]
  },
  {
   "cell_type": "code",
   "execution_count": 11,
   "id": "fc45f436",
   "metadata": {},
   "outputs": [
    {
     "data": {
      "text/plain": [
       "[1, 2, 3, 41, 54, 23]"
      ]
     },
     "execution_count": 11,
     "metadata": {},
     "output_type": "execute_result"
    }
   ],
   "source": [
    "list1"
   ]
  },
  {
   "cell_type": "code",
   "execution_count": 13,
   "id": "8807694b",
   "metadata": {},
   "outputs": [
    {
     "name": "stdout",
     "output_type": "stream",
     "text": [
      "<class 'list'>\n"
     ]
    }
   ],
   "source": [
    "print(type(list1))"
   ]
  },
  {
   "cell_type": "code",
   "execution_count": 14,
   "id": "2c651b99",
   "metadata": {},
   "outputs": [],
   "source": [
    "list2=[12,34,56,23,[12,56,34,76],12,56,[123,56,23],\"shivam\",34.23,56,3]"
   ]
  },
  {
   "cell_type": "code",
   "execution_count": 15,
   "id": "b122e4d8",
   "metadata": {},
   "outputs": [
    {
     "data": {
      "text/plain": [
       "[12,\n",
       " 34,\n",
       " 56,\n",
       " 23,\n",
       " [12, 56, 34, 76],\n",
       " 12,\n",
       " 56,\n",
       " [123, 56, 23],\n",
       " 'shivam',\n",
       " 34.23,\n",
       " 56,\n",
       " 3]"
      ]
     },
     "execution_count": 15,
     "metadata": {},
     "output_type": "execute_result"
    }
   ],
   "source": [
    "list2"
   ]
  },
  {
   "cell_type": "code",
   "execution_count": 16,
   "id": "e477893e",
   "metadata": {},
   "outputs": [],
   "source": [
    "#indexing , slicing"
   ]
  },
  {
   "cell_type": "code",
   "execution_count": 17,
   "id": "416a07b9",
   "metadata": {},
   "outputs": [],
   "source": [
    "list=[1,2,3,4]"
   ]
  },
  {
   "cell_type": "code",
   "execution_count": 18,
   "id": "90e51d81",
   "metadata": {},
   "outputs": [
    {
     "data": {
      "text/plain": [
       "1"
      ]
     },
     "execution_count": 18,
     "metadata": {},
     "output_type": "execute_result"
    }
   ],
   "source": [
    "list[0]"
   ]
  },
  {
   "cell_type": "code",
   "execution_count": 20,
   "id": "d28037dc",
   "metadata": {},
   "outputs": [
    {
     "data": {
      "text/plain": [
       "[1, 2]"
      ]
     },
     "execution_count": 20,
     "metadata": {},
     "output_type": "execute_result"
    }
   ],
   "source": [
    "list[0:2]"
   ]
  },
  {
   "cell_type": "code",
   "execution_count": 21,
   "id": "715df97e",
   "metadata": {},
   "outputs": [],
   "source": [
    "a=\"shivam\""
   ]
  },
  {
   "cell_type": "code",
   "execution_count": 22,
   "id": "6dd3ec5a",
   "metadata": {},
   "outputs": [
    {
     "data": {
      "text/plain": [
       "'s'"
      ]
     },
     "execution_count": 22,
     "metadata": {},
     "output_type": "execute_result"
    }
   ],
   "source": [
    "a[0]"
   ]
  },
  {
   "cell_type": "code",
   "execution_count": 23,
   "id": "d48bcf67",
   "metadata": {},
   "outputs": [
    {
     "data": {
      "text/plain": [
       "[1, 2, 3, 4]"
      ]
     },
     "execution_count": 23,
     "metadata": {},
     "output_type": "execute_result"
    }
   ],
   "source": [
    "list"
   ]
  },
  {
   "cell_type": "code",
   "execution_count": 24,
   "id": "32c8e603",
   "metadata": {},
   "outputs": [],
   "source": [
    "list.append(45)"
   ]
  },
  {
   "cell_type": "code",
   "execution_count": 25,
   "id": "a987e286",
   "metadata": {},
   "outputs": [
    {
     "data": {
      "text/plain": [
       "[1, 2, 3, 4, 45]"
      ]
     },
     "execution_count": 25,
     "metadata": {},
     "output_type": "execute_result"
    }
   ],
   "source": [
    "list"
   ]
  },
  {
   "cell_type": "code",
   "execution_count": 26,
   "id": "04e9c48a",
   "metadata": {},
   "outputs": [],
   "source": [
    "list.remove(45)"
   ]
  },
  {
   "cell_type": "code",
   "execution_count": 27,
   "id": "fc31cb8c",
   "metadata": {},
   "outputs": [
    {
     "data": {
      "text/plain": [
       "[1, 2, 3, 4]"
      ]
     },
     "execution_count": 27,
     "metadata": {},
     "output_type": "execute_result"
    }
   ],
   "source": [
    "list"
   ]
  },
  {
   "cell_type": "code",
   "execution_count": 28,
   "id": "bafdf9cb",
   "metadata": {},
   "outputs": [
    {
     "data": {
      "text/plain": [
       "4"
      ]
     },
     "execution_count": 28,
     "metadata": {},
     "output_type": "execute_result"
    }
   ],
   "source": [
    "list.pop()"
   ]
  },
  {
   "cell_type": "code",
   "execution_count": 29,
   "id": "3eea0631",
   "metadata": {},
   "outputs": [
    {
     "data": {
      "text/plain": [
       "[1, 2, 3]"
      ]
     },
     "execution_count": 29,
     "metadata": {},
     "output_type": "execute_result"
    }
   ],
   "source": [
    "list"
   ]
  },
  {
   "cell_type": "code",
   "execution_count": 31,
   "id": "9eb1b06b",
   "metadata": {},
   "outputs": [
    {
     "data": {
      "text/plain": [
       "1"
      ]
     },
     "execution_count": 31,
     "metadata": {},
     "output_type": "execute_result"
    }
   ],
   "source": [
    "list.count(1)"
   ]
  },
  {
   "cell_type": "code",
   "execution_count": 32,
   "id": "00628877",
   "metadata": {},
   "outputs": [],
   "source": [
    "list=[1,1,1,1,2,2,2,3,3,3,4,4,4,4]"
   ]
  },
  {
   "cell_type": "code",
   "execution_count": 33,
   "id": "52af24f9",
   "metadata": {},
   "outputs": [
    {
     "data": {
      "text/plain": [
       "4"
      ]
     },
     "execution_count": 33,
     "metadata": {},
     "output_type": "execute_result"
    }
   ],
   "source": [
    "list.count(1)"
   ]
  },
  {
   "cell_type": "code",
   "execution_count": 34,
   "id": "24772de6",
   "metadata": {},
   "outputs": [],
   "source": [
    "list.reverse()"
   ]
  },
  {
   "cell_type": "code",
   "execution_count": 35,
   "id": "05882ceb",
   "metadata": {},
   "outputs": [
    {
     "data": {
      "text/plain": [
       "[4, 4, 4, 4, 3, 3, 3, 2, 2, 2, 1, 1, 1, 1]"
      ]
     },
     "execution_count": 35,
     "metadata": {},
     "output_type": "execute_result"
    }
   ],
   "source": [
    "list"
   ]
  },
  {
   "cell_type": "code",
   "execution_count": 36,
   "id": "102acfcd",
   "metadata": {},
   "outputs": [],
   "source": [
    "list.sort()"
   ]
  },
  {
   "cell_type": "code",
   "execution_count": 37,
   "id": "f114c32a",
   "metadata": {},
   "outputs": [
    {
     "data": {
      "text/plain": [
       "[1, 1, 1, 1, 2, 2, 2, 3, 3, 3, 4, 4, 4, 4]"
      ]
     },
     "execution_count": 37,
     "metadata": {},
     "output_type": "execute_result"
    }
   ],
   "source": [
    "list"
   ]
  },
  {
   "cell_type": "code",
   "execution_count": 38,
   "id": "df859cc5",
   "metadata": {},
   "outputs": [],
   "source": [
    "list.insert(2,54)"
   ]
  },
  {
   "cell_type": "code",
   "execution_count": 41,
   "id": "085f7d60",
   "metadata": {},
   "outputs": [
    {
     "data": {
      "text/plain": [
       "[1, 1, 54, 1, 1, 2, 2, 2, 3, 3, 3, 4, 4, 4, 4]"
      ]
     },
     "execution_count": 41,
     "metadata": {},
     "output_type": "execute_result"
    }
   ],
   "source": [
    "list"
   ]
  },
  {
   "cell_type": "code",
   "execution_count": 42,
   "id": "11d1fdd7",
   "metadata": {},
   "outputs": [
    {
     "data": {
      "text/plain": [
       "[1, 1, 54, 1, 1, 2, 2, 2, 3, 3, 3, 4, 4, 4, 4]"
      ]
     },
     "execution_count": 42,
     "metadata": {},
     "output_type": "execute_result"
    }
   ],
   "source": [
    "list"
   ]
  },
  {
   "cell_type": "code",
   "execution_count": 43,
   "id": "8ebfa12f",
   "metadata": {},
   "outputs": [
    {
     "data": {
      "text/plain": [
       "[1, 1, 54, 1, 1]"
      ]
     },
     "execution_count": 43,
     "metadata": {},
     "output_type": "execute_result"
    }
   ],
   "source": [
    "list[0:5]"
   ]
  },
  {
   "cell_type": "code",
   "execution_count": 48,
   "id": "519dc79c",
   "metadata": {},
   "outputs": [
    {
     "data": {
      "text/plain": [
       "[4, 4, 4]"
      ]
     },
     "execution_count": 48,
     "metadata": {},
     "output_type": "execute_result"
    }
   ],
   "source": [
    "list[-1:-4:-1]"
   ]
  },
  {
   "cell_type": "code",
   "execution_count": 49,
   "id": "3f6ac0a5",
   "metadata": {},
   "outputs": [],
   "source": [
    "tuple=(1,2,34)"
   ]
  },
  {
   "cell_type": "code",
   "execution_count": 50,
   "id": "15d107ed",
   "metadata": {},
   "outputs": [
    {
     "data": {
      "text/plain": [
       "tuple"
      ]
     },
     "execution_count": 50,
     "metadata": {},
     "output_type": "execute_result"
    }
   ],
   "source": [
    "type(tuple)"
   ]
  },
  {
   "cell_type": "code",
   "execution_count": 51,
   "id": "ead95966",
   "metadata": {},
   "outputs": [
    {
     "data": {
      "text/plain": [
       "1"
      ]
     },
     "execution_count": 51,
     "metadata": {},
     "output_type": "execute_result"
    }
   ],
   "source": [
    "tuple[0]"
   ]
  },
  {
   "cell_type": "code",
   "execution_count": 52,
   "id": "10f2f8ce",
   "metadata": {},
   "outputs": [
    {
     "data": {
      "text/plain": [
       "1"
      ]
     },
     "execution_count": 52,
     "metadata": {},
     "output_type": "execute_result"
    }
   ],
   "source": [
    "tuple.count(1)"
   ]
  },
  {
   "cell_type": "code",
   "execution_count": 53,
   "id": "bd74a62a",
   "metadata": {},
   "outputs": [
    {
     "data": {
      "text/plain": [
       "2"
      ]
     },
     "execution_count": 53,
     "metadata": {},
     "output_type": "execute_result"
    }
   ],
   "source": [
    "tuple.index(34)"
   ]
  },
  {
   "cell_type": "code",
   "execution_count": 56,
   "id": "2f725bc5",
   "metadata": {},
   "outputs": [
    {
     "data": {
      "text/plain": [
       "'difference between tuple and list \\nlist--mutable\\ntuple-- immutable'"
      ]
     },
     "execution_count": 56,
     "metadata": {},
     "output_type": "execute_result"
    }
   ],
   "source": [
    "\"\"\"difference between tuple and list \n",
    "list--mutable\n",
    "tuple-- immutable\"\"\""
   ]
  },
  {
   "cell_type": "code",
   "execution_count": 57,
   "id": "8a1291bb",
   "metadata": {},
   "outputs": [],
   "source": [
    "#set"
   ]
  },
  {
   "cell_type": "code",
   "execution_count": 58,
   "id": "c249aa18",
   "metadata": {},
   "outputs": [],
   "source": [
    "set={}"
   ]
  },
  {
   "cell_type": "code",
   "execution_count": 59,
   "id": "665e24d2",
   "metadata": {},
   "outputs": [
    {
     "data": {
      "text/plain": [
       "dict"
      ]
     },
     "execution_count": 59,
     "metadata": {},
     "output_type": "execute_result"
    }
   ],
   "source": [
    "type(set)"
   ]
  },
  {
   "cell_type": "code",
   "execution_count": 60,
   "id": "cf4c8eb8",
   "metadata": {},
   "outputs": [],
   "source": [
    "set={12,34,56,231,1,1,1,1,1,1,1,1,1}"
   ]
  },
  {
   "cell_type": "code",
   "execution_count": 61,
   "id": "5d8b9c8d",
   "metadata": {},
   "outputs": [
    {
     "data": {
      "text/plain": [
       "{1, 12, 34, 56, 231}"
      ]
     },
     "execution_count": 61,
     "metadata": {},
     "output_type": "execute_result"
    }
   ],
   "source": [
    "set"
   ]
  },
  {
   "cell_type": "code",
   "execution_count": 62,
   "id": "1ebaa05a",
   "metadata": {},
   "outputs": [],
   "source": [
    "set.add(3)"
   ]
  },
  {
   "cell_type": "code",
   "execution_count": 63,
   "id": "1c2192e6",
   "metadata": {},
   "outputs": [
    {
     "data": {
      "text/plain": [
       "{1, 3, 12, 34, 56, 231}"
      ]
     },
     "execution_count": 63,
     "metadata": {},
     "output_type": "execute_result"
    }
   ],
   "source": [
    "set"
   ]
  },
  {
   "cell_type": "code",
   "execution_count": 64,
   "id": "4cfc76bf",
   "metadata": {},
   "outputs": [],
   "source": [
    "set.remove(3)"
   ]
  },
  {
   "cell_type": "code",
   "execution_count": 65,
   "id": "463ecd6c",
   "metadata": {},
   "outputs": [
    {
     "data": {
      "text/plain": [
       "{1, 12, 34, 56, 231}"
      ]
     },
     "execution_count": 65,
     "metadata": {},
     "output_type": "execute_result"
    }
   ],
   "source": [
    "set"
   ]
  },
  {
   "cell_type": "code",
   "execution_count": 66,
   "id": "d52ac44e",
   "metadata": {},
   "outputs": [],
   "source": [
    "#dictionary"
   ]
  },
  {
   "cell_type": "code",
   "execution_count": 67,
   "id": "80990422",
   "metadata": {},
   "outputs": [],
   "source": [
    "dict={\"name\":\"shivam\",\"course\":\"data science\",\"age\":21}"
   ]
  },
  {
   "cell_type": "code",
   "execution_count": 68,
   "id": "70cca9f9",
   "metadata": {},
   "outputs": [
    {
     "data": {
      "text/plain": [
       "{'name': 'shivam', 'course': 'data science', 'age': 21}"
      ]
     },
     "execution_count": 68,
     "metadata": {},
     "output_type": "execute_result"
    }
   ],
   "source": [
    "dict"
   ]
  },
  {
   "cell_type": "code",
   "execution_count": 69,
   "id": "c25512ae",
   "metadata": {},
   "outputs": [
    {
     "data": {
      "text/plain": [
       "'shivam'"
      ]
     },
     "execution_count": 69,
     "metadata": {},
     "output_type": "execute_result"
    }
   ],
   "source": [
    "dict.get(\"name\")"
   ]
  },
  {
   "cell_type": "code",
   "execution_count": 70,
   "id": "13a4192b",
   "metadata": {},
   "outputs": [
    {
     "data": {
      "text/plain": [
       "'shivam'"
      ]
     },
     "execution_count": 70,
     "metadata": {},
     "output_type": "execute_result"
    }
   ],
   "source": [
    "dict[\"name\"]"
   ]
  },
  {
   "cell_type": "code",
   "execution_count": 71,
   "id": "879ccdf5",
   "metadata": {},
   "outputs": [],
   "source": [
    "dict[\"name\"]=\"Shubham\""
   ]
  },
  {
   "cell_type": "code",
   "execution_count": 72,
   "id": "0a4ca22a",
   "metadata": {},
   "outputs": [
    {
     "data": {
      "text/plain": [
       "{'name': 'Shubham', 'course': 'data science', 'age': 21}"
      ]
     },
     "execution_count": 72,
     "metadata": {},
     "output_type": "execute_result"
    }
   ],
   "source": [
    "dict"
   ]
  },
  {
   "cell_type": "code",
   "execution_count": 73,
   "id": "e8d86def",
   "metadata": {},
   "outputs": [],
   "source": [
    "dict[\"course\"]=\"python\""
   ]
  },
  {
   "cell_type": "code",
   "execution_count": 74,
   "id": "db051ac1",
   "metadata": {},
   "outputs": [
    {
     "data": {
      "text/plain": [
       "{'name': 'Shubham', 'course': 'python', 'age': 21}"
      ]
     },
     "execution_count": 74,
     "metadata": {},
     "output_type": "execute_result"
    }
   ],
   "source": [
    "dict"
   ]
  },
  {
   "cell_type": "code",
   "execution_count": null,
   "id": "428ddc7a",
   "metadata": {},
   "outputs": [],
   "source": [
    "#task\n",
    "create a list of 5 cities\n",
    "access cities\n",
    "add new city\n",
    "remove new added city\n",
    "\n",
    "create dictionary\n",
    "with your name age hobby\n",
    "update dict\n",
    "use all inbuilt functions\n",
    "change name \n",
    "change age\n",
    "change hobby\n",
    "\n",
    "create set of numbers where duplicate present remove one number from it\n",
    "\n",
    "string paragraph\n",
    "indexing +slicing \n"
   ]
  }
 ],
 "metadata": {
  "kernelspec": {
   "display_name": "Python 3",
   "language": "python",
   "name": "python3"
  },
  "language_info": {
   "codemirror_mode": {
    "name": "ipython",
    "version": 3
   },
   "file_extension": ".py",
   "mimetype": "text/x-python",
   "name": "python",
   "nbconvert_exporter": "python",
   "pygments_lexer": "ipython3",
   "version": "3.12.10"
  }
 },
 "nbformat": 4,
 "nbformat_minor": 5
}

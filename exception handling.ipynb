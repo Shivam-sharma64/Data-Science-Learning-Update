{
 "cells": [
  {
   "cell_type": "code",
   "execution_count": 3,
   "id": "5a96be9f-0cc4-47a2-b775-a1e1a5d7ba5e",
   "metadata": {},
   "outputs": [
    {
     "name": "stdin",
     "output_type": "stream",
     "text": [
      " sdf\n"
     ]
    },
    {
     "name": "stdout",
     "output_type": "stream",
     "text": [
      "invalid literal for int() with base 10: 'sdf'\n"
     ]
    }
   ],
   "source": [
    "try:\n",
    "    a=int(input())\n",
    "    b=int(input())\n",
    "except Exception as e:\n",
    "    print(e)"
   ]
  },
  {
   "cell_type": "code",
   "execution_count": 6,
   "id": "2f3010ed-d139-414e-9879-849051512152",
   "metadata": {},
   "outputs": [
    {
     "name": "stdout",
     "output_type": "stream",
     "text": [
      "this is code to read a file not to write\n",
      "12\n",
      "54\n",
      "23\n",
      "54\n",
      "23\n"
     ]
    }
   ],
   "source": [
    "try:\n",
    "    f=open('test1.txt','w')\n",
    "    f.write(\"this is my code for exception handling\")\n",
    "    print(\"this is code to read a file not to write\")\n",
    "except:\n",
    "    print(\"this is  my handler\")\n",
    "try:\n",
    "    l=[12,54,23,54,23]\n",
    "    for i in l:\n",
    "        print(i)\n",
    "except:\n",
    "    print(\"this is handler for the loop program\")"
   ]
  },
  {
   "cell_type": "code",
   "execution_count": 5,
   "id": "919aaf14-ac09-408a-a40a-7205d7a7e7ee",
   "metadata": {},
   "outputs": [
    {
     "name": "stdin",
     "output_type": "stream",
     "text": [
      " asd\n"
     ]
    },
    {
     "name": "stdout",
     "output_type": "stream",
     "text": [
      "invalid literal for int() with base 10: 'asd'\n"
     ]
    }
   ],
   "source": [
    "try:\n",
    "    d={\"key1\":23,\"key2\":\"shivam\",\"key3\":\"sharma\"}\n",
    "    d[\"key4\"]=int(input())\n",
    "except Exception as e:\n",
    "    print(e)"
   ]
  },
  {
   "cell_type": "code",
   "execution_count": 9,
   "id": "79c940d7-56a8-42b3-beb5-e1c961bb20ef",
   "metadata": {},
   "outputs": [
    {
     "name": "stdin",
     "output_type": "stream",
     "text": [
      " stg\n"
     ]
    },
    {
     "name": "stdout",
     "output_type": "stream",
     "text": [
      "this is my exception class invalid literal for int() with base 10: 'stg'\n"
     ]
    }
   ],
   "source": [
    "try:\n",
    "    d={\"key1\":23,\"key2\":\"shivam\",\"key3\":\"sharma\"}\n",
    "    d[\"key4\"]=int(input())\n",
    "except ValueError as e:\n",
    "    print('this is my exception class',e)\n",
    "except FileNotFoundError as filenotfound:\n",
    "    print(filenotfound)"
   ]
  },
  {
   "cell_type": "code",
   "execution_count": 11,
   "id": "b32d8575-a7a4-40d1-8319-51855b3a28f7",
   "metadata": {},
   "outputs": [],
   "source": [
    "def askint():\n",
    "    try:\n",
    "        a=int(input())\n",
    "        return a\n",
    "    except Exception as e:\n",
    "        print(\"this is my input error \",e)"
   ]
  },
  {
   "cell_type": "code",
   "execution_count": 12,
   "id": "023350a5-0235-42ff-84fa-508741d6493f",
   "metadata": {},
   "outputs": [
    {
     "name": "stdin",
     "output_type": "stream",
     "text": [
      " ef\n"
     ]
    },
    {
     "name": "stdout",
     "output_type": "stream",
     "text": [
      "this is my input error  invalid literal for int() with base 10: 'ef'\n"
     ]
    }
   ],
   "source": [
    "askint()"
   ]
  },
  {
   "cell_type": "code",
   "execution_count": 17,
   "id": "8f6554ee-23bd-439b-9bf8-3d7e61cf14c3",
   "metadata": {},
   "outputs": [],
   "source": [
    "def test(a):\n",
    "    if a<0:\n",
    "        raise ZeroDivisionError(\"You have entered the value less than 0\",a)\n",
    "    return a"
   ]
  },
  {
   "cell_type": "code",
   "execution_count": 19,
   "id": "4e3243d3-ca83-40b8-a217-d586fcfe0098",
   "metadata": {},
   "outputs": [
    {
     "ename": "ZeroDivisionError",
     "evalue": "('You have entered the value less than 0', -12)",
     "output_type": "error",
     "traceback": [
      "\u001b[1;31m---------------------------------------------------------------------------\u001b[0m",
      "\u001b[1;31mZeroDivisionError\u001b[0m                         Traceback (most recent call last)",
      "Cell \u001b[1;32mIn[19], line 1\u001b[0m\n\u001b[1;32m----> 1\u001b[0m test(\u001b[38;5;241m-\u001b[39m\u001b[38;5;241m12\u001b[39m)\n",
      "Cell \u001b[1;32mIn[17], line 3\u001b[0m, in \u001b[0;36mtest\u001b[1;34m(a)\u001b[0m\n\u001b[0;32m      1\u001b[0m \u001b[38;5;28;01mdef\u001b[39;00m \u001b[38;5;21mtest\u001b[39m(a):\n\u001b[0;32m      2\u001b[0m     \u001b[38;5;28;01mif\u001b[39;00m a\u001b[38;5;241m<\u001b[39m\u001b[38;5;241m0\u001b[39m:\n\u001b[1;32m----> 3\u001b[0m         \u001b[38;5;28;01mraise\u001b[39;00m \u001b[38;5;167;01mZeroDivisionError\u001b[39;00m(\u001b[38;5;124m\"\u001b[39m\u001b[38;5;124mYou have entered the value less than 0\u001b[39m\u001b[38;5;124m\"\u001b[39m,a)\n\u001b[0;32m      4\u001b[0m     \u001b[38;5;28;01mreturn\u001b[39;00m a\n",
      "\u001b[1;31mZeroDivisionError\u001b[0m: ('You have entered the value less than 0', -12)"
     ]
    }
   ],
   "source": [
    "test(-12)"
   ]
  },
  {
   "cell_type": "code",
   "execution_count": 24,
   "id": "2350f3bf-beb2-4dad-9b4a-9d9985e03572",
   "metadata": {},
   "outputs": [],
   "source": [
    "def test(a):\n",
    "    if a==\"Shivam\":\n",
    "        raise ZeroDivisionError(\"You have entered the value less than 0\",a)\n",
    "    return a"
   ]
  },
  {
   "cell_type": "code",
   "execution_count": 25,
   "id": "359f7a48-450b-4889-9278-80523176e0f3",
   "metadata": {},
   "outputs": [
    {
     "name": "stdin",
     "output_type": "stream",
     "text": [
      " Shivam\n"
     ]
    },
    {
     "name": "stdout",
     "output_type": "stream",
     "text": [
      "('You have entered the value less than 0', 'Shivam')\n"
     ]
    }
   ],
   "source": [
    "try:\n",
    "    v=input()\n",
    "    test(v)\n",
    "except Exception as e:\n",
    "    print(e)"
   ]
  },
  {
   "cell_type": "code",
   "execution_count": null,
   "id": "39c11ad4-bea0-4f5a-b398-42eb31ec9eb2",
   "metadata": {},
   "outputs": [],
   "source": []
  }
 ],
 "metadata": {
  "kernelspec": {
   "display_name": "Python 3 (ipykernel)",
   "language": "python",
   "name": "python3"
  },
  "language_info": {
   "codemirror_mode": {
    "name": "ipython",
    "version": 3
   },
   "file_extension": ".py",
   "mimetype": "text/x-python",
   "name": "python",
   "nbconvert_exporter": "python",
   "pygments_lexer": "ipython3",
   "version": "3.12.7"
  }
 },
 "nbformat": 4,
 "nbformat_minor": 5
}
